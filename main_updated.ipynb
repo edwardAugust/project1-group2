{
 "cells": [
  {
   "cell_type": "code",
   "execution_count": 3,
   "id": "0bc50d23",
   "metadata": {},
   "outputs": [],
   "source": [
    "# import dependencies\n",
    "import pandas as pd\n",
    "#from apiKey import api_key\n",
    "import requests\n",
    "import matplotlib.pyplot as plt\n",
    "import numpy as np\n",
    "from scipy.stats import linregress\n"
   ]
  },
  {
   "cell_type": "code",
   "execution_count": 44,
   "id": "144b6dac",
   "metadata": {},
   "outputs": [
    {
     "data": {
      "text/html": [
       "<div>\n",
       "<style scoped>\n",
       "    .dataframe tbody tr th:only-of-type {\n",
       "        vertical-align: middle;\n",
       "    }\n",
       "\n",
       "    .dataframe tbody tr th {\n",
       "        vertical-align: top;\n",
       "    }\n",
       "\n",
       "    .dataframe thead th {\n",
       "        text-align: right;\n",
       "    }\n",
       "</style>\n",
       "<table border=\"1\" class=\"dataframe\">\n",
       "  <thead>\n",
       "    <tr style=\"text-align: right;\">\n",
       "      <th></th>\n",
       "      <th>Unnamed: 0</th>\n",
       "      <th>Title</th>\n",
       "      <th>Movie Info</th>\n",
       "      <th>Distributor</th>\n",
       "      <th>Release Date</th>\n",
       "      <th>Domestic Sales (in $)</th>\n",
       "      <th>International Sales (in $)</th>\n",
       "      <th>World Sales (in $)</th>\n",
       "      <th>Genre</th>\n",
       "      <th>Movie Runtime</th>\n",
       "      <th>License</th>\n",
       "    </tr>\n",
       "  </thead>\n",
       "  <tbody>\n",
       "    <tr>\n",
       "      <th>0</th>\n",
       "      <td>0</td>\n",
       "      <td>Star Wars: Episode VII - The Force Awakens (2015)</td>\n",
       "      <td>As a new threat to the galaxy rises, Rey, a de...</td>\n",
       "      <td>Walt Disney Studios Motion Pictures</td>\n",
       "      <td>December 16, 2015</td>\n",
       "      <td>936662225</td>\n",
       "      <td>1132859475</td>\n",
       "      <td>2069521700</td>\n",
       "      <td>['Action', 'Adventure', 'Sci-Fi']</td>\n",
       "      <td>2 hr 18 min</td>\n",
       "      <td>PG-13</td>\n",
       "    </tr>\n",
       "    <tr>\n",
       "      <th>1</th>\n",
       "      <td>1</td>\n",
       "      <td>Avengers: Endgame (2019)</td>\n",
       "      <td>After the devastating events of Avengers: Infi...</td>\n",
       "      <td>Walt Disney Studios Motion Pictures</td>\n",
       "      <td>April 24, 2019</td>\n",
       "      <td>858373000</td>\n",
       "      <td>1939128328</td>\n",
       "      <td>2797501328</td>\n",
       "      <td>['Action', 'Adventure', 'Drama', 'Sci-Fi']</td>\n",
       "      <td>3 hr 1 min</td>\n",
       "      <td>PG-13</td>\n",
       "    </tr>\n",
       "    <tr>\n",
       "      <th>2</th>\n",
       "      <td>2</td>\n",
       "      <td>Avatar (2009)</td>\n",
       "      <td>A paraplegic Marine dispatched to the moon Pan...</td>\n",
       "      <td>Twentieth Century Fox</td>\n",
       "      <td>December 16, 2009</td>\n",
       "      <td>760507625</td>\n",
       "      <td>2086738578</td>\n",
       "      <td>2847246203</td>\n",
       "      <td>['Action', 'Adventure', 'Fantasy', 'Sci-Fi']</td>\n",
       "      <td>2 hr 42 min</td>\n",
       "      <td>PG-13</td>\n",
       "    </tr>\n",
       "    <tr>\n",
       "      <th>3</th>\n",
       "      <td>3</td>\n",
       "      <td>Black Panther (2018)</td>\n",
       "      <td>T'Challa, heir to the hidden but advanced king...</td>\n",
       "      <td>Walt Disney Studios Motion Pictures</td>\n",
       "      <td>NaN</td>\n",
       "      <td>700426566</td>\n",
       "      <td>647171407</td>\n",
       "      <td>1347597973</td>\n",
       "      <td>['Action', 'Adventure', 'Sci-Fi']</td>\n",
       "      <td>2 hr 14 min</td>\n",
       "      <td>NaN</td>\n",
       "    </tr>\n",
       "    <tr>\n",
       "      <th>4</th>\n",
       "      <td>4</td>\n",
       "      <td>Avengers: Infinity War (2018)</td>\n",
       "      <td>The Avengers and their allies must be willing ...</td>\n",
       "      <td>Walt Disney Studios Motion Pictures</td>\n",
       "      <td>NaN</td>\n",
       "      <td>678815482</td>\n",
       "      <td>1369544272</td>\n",
       "      <td>2048359754</td>\n",
       "      <td>['Action', 'Adventure', 'Sci-Fi']</td>\n",
       "      <td>2 hr 29 min</td>\n",
       "      <td>NaN</td>\n",
       "    </tr>\n",
       "  </tbody>\n",
       "</table>\n",
       "</div>"
      ],
      "text/plain": [
       "   Unnamed: 0                                              Title  \\\n",
       "0           0  Star Wars: Episode VII - The Force Awakens (2015)   \n",
       "1           1                           Avengers: Endgame (2019)   \n",
       "2           2                                      Avatar (2009)   \n",
       "3           3                               Black Panther (2018)   \n",
       "4           4                      Avengers: Infinity War (2018)   \n",
       "\n",
       "                                          Movie Info  \\\n",
       "0  As a new threat to the galaxy rises, Rey, a de...   \n",
       "1  After the devastating events of Avengers: Infi...   \n",
       "2  A paraplegic Marine dispatched to the moon Pan...   \n",
       "3  T'Challa, heir to the hidden but advanced king...   \n",
       "4  The Avengers and their allies must be willing ...   \n",
       "\n",
       "                           Distributor       Release Date  \\\n",
       "0  Walt Disney Studios Motion Pictures  December 16, 2015   \n",
       "1  Walt Disney Studios Motion Pictures     April 24, 2019   \n",
       "2                Twentieth Century Fox  December 16, 2009   \n",
       "3  Walt Disney Studios Motion Pictures                NaN   \n",
       "4  Walt Disney Studios Motion Pictures                NaN   \n",
       "\n",
       "   Domestic Sales (in $)  International Sales (in $)  World Sales (in $)  \\\n",
       "0              936662225                  1132859475          2069521700   \n",
       "1              858373000                  1939128328          2797501328   \n",
       "2              760507625                  2086738578          2847246203   \n",
       "3              700426566                   647171407          1347597973   \n",
       "4              678815482                  1369544272          2048359754   \n",
       "\n",
       "                                          Genre Movie Runtime License  \n",
       "0             ['Action', 'Adventure', 'Sci-Fi']   2 hr 18 min   PG-13  \n",
       "1    ['Action', 'Adventure', 'Drama', 'Sci-Fi']    3 hr 1 min   PG-13  \n",
       "2  ['Action', 'Adventure', 'Fantasy', 'Sci-Fi']   2 hr 42 min   PG-13  \n",
       "3             ['Action', 'Adventure', 'Sci-Fi']   2 hr 14 min     NaN  \n",
       "4             ['Action', 'Adventure', 'Sci-Fi']   2 hr 29 min     NaN  "
      ]
     },
     "execution_count": 44,
     "metadata": {},
     "output_type": "execute_result"
    }
   ],
   "source": [
    "# pull data from csv\n",
    "file_one = \"Resources/highest_grossing_movies.csv\"\n",
    "df = pd.read_csv(file_one)\n",
    "df.head()"
   ]
  },
  {
   "cell_type": "code",
   "execution_count": 45,
   "id": "301c8e4a",
   "metadata": {},
   "outputs": [],
   "source": [
    "# create a list to loop through the top1000\n",
    "titles = df['Title'].str[:-7].values.tolist()\n"
   ]
  },
  {
   "cell_type": "code",
   "execution_count": null,
   "id": "b6598387",
   "metadata": {},
   "outputs": [],
   "source": []
  },
  {
   "cell_type": "code",
   "execution_count": null,
   "id": "fb611d54",
   "metadata": {},
   "outputs": [],
   "source": []
  },
  {
   "cell_type": "code",
   "execution_count": 46,
   "id": "b4ae7d41",
   "metadata": {},
   "outputs": [
    {
     "data": {
      "text/plain": [
       "Index(['Unnamed: 0', 'Title', 'Movie Info', 'Distributor', 'Release Date',\n",
       "       'Domestic Sales (in $)', 'International Sales (in $)',\n",
       "       'World Sales (in $)', 'Genre', 'Movie Runtime', 'License'],\n",
       "      dtype='object')"
      ]
     },
     "execution_count": 46,
     "metadata": {},
     "output_type": "execute_result"
    }
   ],
   "source": [
    "df.columns"
   ]
  },
  {
   "cell_type": "code",
   "execution_count": 47,
   "id": "c6c0f7fa",
   "metadata": {},
   "outputs": [
    {
     "ename": "NameError",
     "evalue": "name 'api_key' is not defined",
     "output_type": "error",
     "traceback": [
      "\u001b[0;31m---------------------------------------------------------------------------\u001b[0m",
      "\u001b[0;31mNameError\u001b[0m                                 Traceback (most recent call last)",
      "\u001b[0;32m/var/folders/_8/5xdclpj14fv_9w2kkv8965zc0000gn/T/ipykernel_1312/2349301159.py\u001b[0m in \u001b[0;36m<module>\u001b[0;34m\u001b[0m\n\u001b[1;32m      1\u001b[0m \u001b[0;31m# Interacting with the API\u001b[0m\u001b[0;34m\u001b[0m\u001b[0;34m\u001b[0m\u001b[0m\n\u001b[0;32m----> 2\u001b[0;31m \u001b[0murl\u001b[0m \u001b[0;34m=\u001b[0m \u001b[0;34mf'http://www.omdbapi.com/?apikey={api_key}&t='\u001b[0m\u001b[0;34m\u001b[0m\u001b[0;34m\u001b[0m\u001b[0m\n\u001b[0m\u001b[1;32m      3\u001b[0m \u001b[0;31m# make a list to append json data\u001b[0m\u001b[0;34m\u001b[0m\u001b[0;34m\u001b[0m\u001b[0m\n\u001b[1;32m      4\u001b[0m \u001b[0mtitle\u001b[0m \u001b[0;34m=\u001b[0m \u001b[0;34m'Star Wars: Episode VII - The Force Awakens'\u001b[0m\u001b[0;34m\u001b[0m\u001b[0;34m\u001b[0m\u001b[0m\n\u001b[1;32m      5\u001b[0m \u001b[0mrt_movies_ls\u001b[0m \u001b[0;34m=\u001b[0m \u001b[0;34m[\u001b[0m\u001b[0;34m]\u001b[0m \u001b[0;31m# we'll turn this into a data frame?\u001b[0m\u001b[0;34m\u001b[0m\u001b[0;34m\u001b[0m\u001b[0m\n",
      "\u001b[0;31mNameError\u001b[0m: name 'api_key' is not defined"
     ]
    }
   ],
   "source": [
    "# Interacting with the API\n",
    "url = f'http://www.omdbapi.com/?apikey={api_key}&t='\n",
    "# make a list to append json data\n",
    "title = 'Star Wars: Episode VII - The Force Awakens'\n",
    "rt_movies_ls = [] # we'll turn this into a data frame? \n",
    "imdb_movies_ls = []\n",
    "director_ls = []\n",
    "actor_ls = []\n",
    "title_ls = []\n",
    "year_ls = []\n",
    "rated_ls = []\n",
    "length_ls = []\n",
    "movie_json = requests.get(url + title).json()\n",
    "movie_json\n",
    "\n",
    "# request limit is 1000 daily\n",
    "# we need to cut list down to 100"
   ]
  },
  {
   "cell_type": "code",
   "execution_count": 48,
   "id": "0c9e8b2c",
   "metadata": {},
   "outputs": [
    {
     "ename": "NameError",
     "evalue": "name 'movie_json' is not defined",
     "output_type": "error",
     "traceback": [
      "\u001b[0;31m---------------------------------------------------------------------------\u001b[0m",
      "\u001b[0;31mNameError\u001b[0m                                 Traceback (most recent call last)",
      "\u001b[0;32m/var/folders/_8/5xdclpj14fv_9w2kkv8965zc0000gn/T/ipykernel_1312/4124055448.py\u001b[0m in \u001b[0;36m<module>\u001b[0;34m\u001b[0m\n\u001b[1;32m     23\u001b[0m         \u001b[0;32mpass\u001b[0m\u001b[0;34m\u001b[0m\u001b[0;34m\u001b[0m\u001b[0m\n\u001b[1;32m     24\u001b[0m \u001b[0;31m# convert movie list into data frame\u001b[0m\u001b[0;34m\u001b[0m\u001b[0;34m\u001b[0m\u001b[0m\n\u001b[0;32m---> 25\u001b[0;31m \u001b[0mmovie_json\u001b[0m\u001b[0;34m\u001b[0m\u001b[0;34m\u001b[0m\u001b[0m\n\u001b[0m",
      "\u001b[0;31mNameError\u001b[0m: name 'movie_json' is not defined"
     ]
    }
   ],
   "source": [
    "#\n",
    "for title in titles[:500]:\n",
    "    try:\n",
    "        # access json data\n",
    "        movie_json = requests.get(url + title).json()\n",
    "        movie_ratings_rt = movie_json['Ratings'][1]['Value']\n",
    "        movie_ratings_imdb = movie_json['imdbRating']\n",
    "        movie_director = movie_json['Director']\n",
    "        movie_actors = movie_json['Actors']\n",
    "        movie_year = movie_json['Year']\n",
    "        movie_rating = movie_json['Rated']\n",
    "        movie_length = movie_json['Runtime']\n",
    "        #append json to movie_ls list\n",
    "        rt_movies_ls.append(movie_ratings_rt)\n",
    "        imdb_movies_ls.append(movie_ratings_imdb)\n",
    "        director_ls.append(movie_director)\n",
    "        actor_ls.append(movie_actors)\n",
    "        title_ls.append(title)\n",
    "        year_ls.append(movie_year)\n",
    "        rated_ls.append(movie_rating)\n",
    "        length_ls.append(movie_length)\n",
    "    except:\n",
    "        pass\n",
    "# convert movie list into data frame\n",
    "movie_json"
   ]
  },
  {
   "cell_type": "code",
   "execution_count": 12,
   "id": "1e94ae23",
   "metadata": {},
   "outputs": [
    {
     "name": "stdout",
     "output_type": "stream",
     "text": [
      "Star Wars: Episode VII - The Force Awakens\n",
      "Daisy Ridley, John Boyega, Oscar Isaac\n",
      "J.J. Abrams\n",
      "2015\n",
      "93%\n",
      "7.8\n"
     ]
    }
   ],
   "source": [
    "\n",
    "\n",
    "#print(title_ls[0])\n",
    "#print(actor_ls[0])\n",
    "#print(director_ls[0])\n",
    "\n",
    "#print(year_ls[0])\n",
    "#print(rt_movies_ls[0])\n",
    "#print(imdb_movies_ls[0])\n",
    "\n",
    "\n"
   ]
  },
  {
   "cell_type": "code",
   "execution_count": 41,
   "id": "5eed1204",
   "metadata": {},
   "outputs": [
    {
     "ename": "NameError",
     "evalue": "name 'title_ls' is not defined",
     "output_type": "error",
     "traceback": [
      "\u001b[0;31m---------------------------------------------------------------------------\u001b[0m",
      "\u001b[0;31mNameError\u001b[0m                                 Traceback (most recent call last)",
      "\u001b[0;32m/var/folders/_8/5xdclpj14fv_9w2kkv8965zc0000gn/T/ipykernel_1312/4111486778.py\u001b[0m in \u001b[0;36m<module>\u001b[0;34m\u001b[0m\n\u001b[1;32m      1\u001b[0m \u001b[0mfull_moviels_df\u001b[0m \u001b[0;34m=\u001b[0m \u001b[0mpd\u001b[0m\u001b[0;34m.\u001b[0m\u001b[0mDataFrame\u001b[0m\u001b[0;34m(\u001b[0m\u001b[0;34m)\u001b[0m\u001b[0;34m\u001b[0m\u001b[0;34m\u001b[0m\u001b[0m\n\u001b[0;32m----> 2\u001b[0;31m \u001b[0mfull_moviels_df\u001b[0m\u001b[0;34m[\u001b[0m\u001b[0;34m'Title'\u001b[0m\u001b[0;34m]\u001b[0m \u001b[0;34m=\u001b[0m \u001b[0mtitle_ls\u001b[0m\u001b[0;34m\u001b[0m\u001b[0;34m\u001b[0m\u001b[0m\n\u001b[0m\u001b[1;32m      3\u001b[0m \u001b[0mfull_moviels_df\u001b[0m\u001b[0;34m[\u001b[0m\u001b[0;34m'World Sales'\u001b[0m\u001b[0;34m]\u001b[0m \u001b[0;34m=\u001b[0m \u001b[0mdf\u001b[0m\u001b[0;34m[\u001b[0m\u001b[0;34m'World Sales (in $)'\u001b[0m\u001b[0;34m]\u001b[0m\u001b[0;34m\u001b[0m\u001b[0;34m\u001b[0m\u001b[0m\n\u001b[1;32m      4\u001b[0m \u001b[0mfull_moviels_df\u001b[0m\u001b[0;34m[\u001b[0m\u001b[0;34m'Year Released'\u001b[0m\u001b[0;34m]\u001b[0m \u001b[0;34m=\u001b[0m \u001b[0myear_ls\u001b[0m\u001b[0;34m\u001b[0m\u001b[0;34m\u001b[0m\u001b[0m\n\u001b[1;32m      5\u001b[0m \u001b[0mfull_moviels_df\u001b[0m\u001b[0;34m[\u001b[0m\u001b[0;34m'Rotten Tomatoes Score'\u001b[0m\u001b[0;34m]\u001b[0m \u001b[0;34m=\u001b[0m \u001b[0mrt_movies_ls\u001b[0m\u001b[0;34m\u001b[0m\u001b[0;34m\u001b[0m\u001b[0m\n",
      "\u001b[0;31mNameError\u001b[0m: name 'title_ls' is not defined"
     ]
    }
   ],
   "source": [
    "full_moviels_df = pd.DataFrame()\n",
    "full_moviels_df['Title'] = title_ls\n",
    "full_moviels_df['World Sales'] = df['World Sales (in $)']\n",
    "full_moviels_df['Year Released'] = year_ls\n",
    "full_moviels_df['Rotten Tomatoes Score'] = rt_movies_ls\n",
    "full_moviels_df['IMDB Score'] = imdb_movies_ls\n",
    "full_moviels_df['Director(s)'] = director_ls\n",
    "full_moviels_df['Headlining Actor(s)'] = actor_ls\n",
    "full_moviels_df['Studio'] = df['Distributor']\n",
    "full_moviels_df['Runtime'] = length_ls\n",
    "full_moviels_df['Rating'] = rated_ls\n",
    "full_moviels_df['Genre'] = df['Genre']\n",
    "full_moviels_df.head()   "
   ]
  },
  {
   "cell_type": "code",
   "execution_count": 1,
   "id": "efc3781c",
   "metadata": {},
   "outputs": [
    {
     "ename": "NameError",
     "evalue": "name 'full_moviels_df' is not defined",
     "output_type": "error",
     "traceback": [
      "\u001b[0;31m---------------------------------------------------------------------------\u001b[0m",
      "\u001b[0;31mNameError\u001b[0m                                 Traceback (most recent call last)",
      "\u001b[0;32m/var/folders/_8/5xdclpj14fv_9w2kkv8965zc0000gn/T/ipykernel_2920/2372465600.py\u001b[0m in \u001b[0;36m<module>\u001b[0;34m\u001b[0m\n\u001b[0;32m----> 1\u001b[0;31m \u001b[0mfull_moviels_df\u001b[0m\u001b[0;34m.\u001b[0m\u001b[0mto_csv\u001b[0m\u001b[0;34m(\u001b[0m\u001b[0;34m\"Output/Movie_Data.csv\"\u001b[0m\u001b[0;34m)\u001b[0m\u001b[0;34m\u001b[0m\u001b[0;34m\u001b[0m\u001b[0m\n\u001b[0m",
      "\u001b[0;31mNameError\u001b[0m: name 'full_moviels_df' is not defined"
     ]
    }
   ],
   "source": [
    "full_moviels_df.to_csv(\"Output/Movie_Data.csv\")"
   ]
  },
  {
   "cell_type": "code",
   "execution_count": 38,
   "id": "1678bda6",
   "metadata": {},
   "outputs": [
    {
     "data": {
      "text/html": [
       "<div>\n",
       "<style scoped>\n",
       "    .dataframe tbody tr th:only-of-type {\n",
       "        vertical-align: middle;\n",
       "    }\n",
       "\n",
       "    .dataframe tbody tr th {\n",
       "        vertical-align: top;\n",
       "    }\n",
       "\n",
       "    .dataframe thead th {\n",
       "        text-align: right;\n",
       "    }\n",
       "</style>\n",
       "<table border=\"1\" class=\"dataframe\">\n",
       "  <thead>\n",
       "    <tr style=\"text-align: right;\">\n",
       "      <th></th>\n",
       "      <th>0</th>\n",
       "    </tr>\n",
       "  </thead>\n",
       "  <tbody>\n",
       "    <tr>\n",
       "      <th>0</th>\n",
       "      <td>93%</td>\n",
       "    </tr>\n",
       "    <tr>\n",
       "      <th>1</th>\n",
       "      <td>94%</td>\n",
       "    </tr>\n",
       "    <tr>\n",
       "      <th>2</th>\n",
       "      <td>82%</td>\n",
       "    </tr>\n",
       "    <tr>\n",
       "      <th>3</th>\n",
       "      <td>96%</td>\n",
       "    </tr>\n",
       "    <tr>\n",
       "      <th>4</th>\n",
       "      <td>85%</td>\n",
       "    </tr>\n",
       "  </tbody>\n",
       "</table>\n",
       "</div>"
      ],
      "text/plain": [
       "     0\n",
       "0  93%\n",
       "1  94%\n",
       "2  82%\n",
       "3  96%\n",
       "4  85%"
      ]
     },
     "execution_count": 38,
     "metadata": {},
     "output_type": "execute_result"
    }
   ],
   "source": [
    "# convert movie list into data frame\n",
    "#movie_list_df = pd.DataFrame(movies_ls)\n",
    "#movie_list_df[\"Metacritic Rating\"] = movie_list_df[2]['Value']\n",
    "#movie_list_df"
   ]
  },
  {
   "cell_type": "code",
   "execution_count": 18,
   "id": "1ef0f904",
   "metadata": {},
   "outputs": [],
   "source": [
    "# merge dataframes"
   ]
  },
  {
   "cell_type": "code",
   "execution_count": null,
   "id": "1db9abfc",
   "metadata": {},
   "outputs": [],
   "source": [
    "# Bar Graphs on directors  sales, actors  sales,  studio sales,\n",
    "# Combine list of actors into 1 large list to run a count of how many times an actor appears across all movies on list\n",
    "\n",
    "#MK"
   ]
  },
  {
   "cell_type": "code",
   "execution_count": null,
   "id": "3264ad01",
   "metadata": {},
   "outputs": [],
   "source": [
    "# Line plot for movie genre performance over time\n",
    "\n",
    "#RM"
   ]
  },
  {
   "cell_type": "code",
   "execution_count": null,
   "id": "de365dcd",
   "metadata": {},
   "outputs": [],
   "source": [
    "# Bar chart for movie rated vs. box office\n",
    "\n",
    "#EP"
   ]
  },
  {
   "cell_type": "code",
   "execution_count": null,
   "id": "92116a50",
   "metadata": {},
   "outputs": [],
   "source": [
    "# Pie chart of Genre Percentage in top grossing\n",
    "\n",
    "#DV"
   ]
  },
  {
   "cell_type": "code",
   "execution_count": 15,
   "id": "11ee8305",
   "metadata": {},
   "outputs": [
    {
     "data": {
      "text/html": [
       "<div>\n",
       "<style scoped>\n",
       "    .dataframe tbody tr th:only-of-type {\n",
       "        vertical-align: middle;\n",
       "    }\n",
       "\n",
       "    .dataframe tbody tr th {\n",
       "        vertical-align: top;\n",
       "    }\n",
       "\n",
       "    .dataframe thead th {\n",
       "        text-align: right;\n",
       "    }\n",
       "</style>\n",
       "<table border=\"1\" class=\"dataframe\">\n",
       "  <thead>\n",
       "    <tr style=\"text-align: right;\">\n",
       "      <th></th>\n",
       "      <th>Unnamed: 0</th>\n",
       "      <th>Title</th>\n",
       "      <th>World Sales</th>\n",
       "      <th>Year Released</th>\n",
       "      <th>Rotten Tomatoes Score</th>\n",
       "      <th>IMDB Score</th>\n",
       "      <th>Director(s)</th>\n",
       "      <th>Headlining Actor(s)</th>\n",
       "      <th>Studio</th>\n",
       "      <th>Runtime</th>\n",
       "      <th>Rating</th>\n",
       "      <th>Genre</th>\n",
       "    </tr>\n",
       "  </thead>\n",
       "  <tbody>\n",
       "    <tr>\n",
       "      <th>0</th>\n",
       "      <td>0</td>\n",
       "      <td>Star Wars: Episode VII - The Force Awakens</td>\n",
       "      <td>2069521700</td>\n",
       "      <td>2015</td>\n",
       "      <td>93%</td>\n",
       "      <td>7.8</td>\n",
       "      <td>J.J. Abrams</td>\n",
       "      <td>Daisy Ridley, John Boyega, Oscar Isaac</td>\n",
       "      <td>Walt Disney Studios Motion Pictures</td>\n",
       "      <td>138 min</td>\n",
       "      <td>PG-13</td>\n",
       "      <td>['Action', 'Adventure', 'Sci-Fi']</td>\n",
       "    </tr>\n",
       "    <tr>\n",
       "      <th>1</th>\n",
       "      <td>1</td>\n",
       "      <td>Avengers: Endgame</td>\n",
       "      <td>2797501328</td>\n",
       "      <td>2019</td>\n",
       "      <td>94%</td>\n",
       "      <td>8.4</td>\n",
       "      <td>Anthony Russo, Joe Russo</td>\n",
       "      <td>Robert Downey Jr., Chris Evans, Mark Ruffalo</td>\n",
       "      <td>Walt Disney Studios Motion Pictures</td>\n",
       "      <td>181 min</td>\n",
       "      <td>PG-13</td>\n",
       "      <td>['Action', 'Adventure', 'Drama', 'Sci-Fi']</td>\n",
       "    </tr>\n",
       "    <tr>\n",
       "      <th>2</th>\n",
       "      <td>2</td>\n",
       "      <td>Avatar</td>\n",
       "      <td>2847246203</td>\n",
       "      <td>2009</td>\n",
       "      <td>82%</td>\n",
       "      <td>7.9</td>\n",
       "      <td>James Cameron</td>\n",
       "      <td>Sam Worthington, Zoe Saldana, Sigourney Weaver</td>\n",
       "      <td>Twentieth Century Fox</td>\n",
       "      <td>162 min</td>\n",
       "      <td>PG-13</td>\n",
       "      <td>['Action', 'Adventure', 'Fantasy', 'Sci-Fi']</td>\n",
       "    </tr>\n",
       "    <tr>\n",
       "      <th>3</th>\n",
       "      <td>3</td>\n",
       "      <td>Black Panther</td>\n",
       "      <td>1347597973</td>\n",
       "      <td>2018</td>\n",
       "      <td>96%</td>\n",
       "      <td>7.3</td>\n",
       "      <td>Ryan Coogler</td>\n",
       "      <td>Chadwick Boseman, Michael B. Jordan, Lupita Ny...</td>\n",
       "      <td>Walt Disney Studios Motion Pictures</td>\n",
       "      <td>134 min</td>\n",
       "      <td>PG-13</td>\n",
       "      <td>['Action', 'Adventure', 'Sci-Fi']</td>\n",
       "    </tr>\n",
       "    <tr>\n",
       "      <th>4</th>\n",
       "      <td>4</td>\n",
       "      <td>Avengers: Infinity War</td>\n",
       "      <td>2048359754</td>\n",
       "      <td>2018</td>\n",
       "      <td>85%</td>\n",
       "      <td>8.4</td>\n",
       "      <td>Anthony Russo, Joe Russo</td>\n",
       "      <td>Robert Downey Jr., Chris Hemsworth, Mark Ruffalo</td>\n",
       "      <td>Walt Disney Studios Motion Pictures</td>\n",
       "      <td>149 min</td>\n",
       "      <td>PG-13</td>\n",
       "      <td>['Action', 'Adventure', 'Sci-Fi']</td>\n",
       "    </tr>\n",
       "  </tbody>\n",
       "</table>\n",
       "</div>"
      ],
      "text/plain": [
       "   Unnamed: 0                                       Title  World Sales  \\\n",
       "0           0  Star Wars: Episode VII - The Force Awakens   2069521700   \n",
       "1           1                           Avengers: Endgame   2797501328   \n",
       "2           2                                      Avatar   2847246203   \n",
       "3           3                               Black Panther   1347597973   \n",
       "4           4                      Avengers: Infinity War   2048359754   \n",
       "\n",
       "   Year Released Rotten Tomatoes Score  IMDB Score               Director(s)  \\\n",
       "0           2015                   93%         7.8               J.J. Abrams   \n",
       "1           2019                   94%         8.4  Anthony Russo, Joe Russo   \n",
       "2           2009                   82%         7.9             James Cameron   \n",
       "3           2018                   96%         7.3              Ryan Coogler   \n",
       "4           2018                   85%         8.4  Anthony Russo, Joe Russo   \n",
       "\n",
       "                                 Headlining Actor(s)  \\\n",
       "0             Daisy Ridley, John Boyega, Oscar Isaac   \n",
       "1       Robert Downey Jr., Chris Evans, Mark Ruffalo   \n",
       "2     Sam Worthington, Zoe Saldana, Sigourney Weaver   \n",
       "3  Chadwick Boseman, Michael B. Jordan, Lupita Ny...   \n",
       "4   Robert Downey Jr., Chris Hemsworth, Mark Ruffalo   \n",
       "\n",
       "                                Studio  Runtime Rating  \\\n",
       "0  Walt Disney Studios Motion Pictures  138 min  PG-13   \n",
       "1  Walt Disney Studios Motion Pictures  181 min  PG-13   \n",
       "2                Twentieth Century Fox  162 min  PG-13   \n",
       "3  Walt Disney Studios Motion Pictures  134 min  PG-13   \n",
       "4  Walt Disney Studios Motion Pictures  149 min  PG-13   \n",
       "\n",
       "                                          Genre  \n",
       "0             ['Action', 'Adventure', 'Sci-Fi']  \n",
       "1    ['Action', 'Adventure', 'Drama', 'Sci-Fi']  \n",
       "2  ['Action', 'Adventure', 'Fantasy', 'Sci-Fi']  \n",
       "3             ['Action', 'Adventure', 'Sci-Fi']  \n",
       "4             ['Action', 'Adventure', 'Sci-Fi']  "
      ]
     },
     "execution_count": 15,
     "metadata": {},
     "output_type": "execute_result"
    }
   ],
   "source": [
    "# Scatter plot for audience reception vs. sales\n",
    "# Scatter plot for critic reception vs. sales\n",
    "df = pd.read_csv(\"Output/Movie_Data.csv\")\n",
    "df.head()\n"
   ]
  },
  {
   "cell_type": "code",
   "execution_count": 16,
   "id": "463a6ca1",
   "metadata": {},
   "outputs": [
    {
     "data": {
      "text/plain": [
       "0    93%\n",
       "1    94%\n",
       "2    82%\n",
       "3    96%\n",
       "4    85%\n",
       "Name: Rotten Tomatoes Score, dtype: object"
      ]
     },
     "execution_count": 16,
     "metadata": {},
     "output_type": "execute_result"
    }
   ],
   "source": [
    "# Formatting with a function that calls a loop\n",
    "# this one removes the percentage signs\n",
    "# further, data types are inconsistent\n",
    "def format_score(x):\n",
    "    if '%' in x:# removes the percentage sign\n",
    "        return x.split('%')[0]\n",
    "    elif '/' in x:# this one was for those'XX/100'\n",
    "        return x.split('/')[0]\n",
    "    elif '–' in x:# the split one\n",
    "        return x.split('–')[0] #the wierd one \n",
    "    elif x is None:\n",
    "        return None\n",
    "df['Rotten Tomatoes Score'].head()"
   ]
  },
  {
   "cell_type": "code",
   "execution_count": 17,
   "id": "3ae18a9a",
   "metadata": {},
   "outputs": [
    {
     "data": {
      "text/plain": [
       "0    93\n",
       "1    94\n",
       "2    82\n",
       "3    96\n",
       "4    85\n",
       "Name: Rotten Tomatoes Score, dtype: int64"
      ]
     },
     "execution_count": 17,
     "metadata": {},
     "output_type": "execute_result"
    }
   ],
   "source": [
    "# Call the above formula, the idea for mapping and using lambda\n",
    "# came from a previous tutoring session\n",
    "df[\"Rotten Tomatoes Score\"] = df[\"Rotten Tomatoes Score\"].map(lambda x: format_score(x))\n",
    "df[\"Rotten Tomatoes Score\"] = pd.to_numeric(df[\"Rotten Tomatoes Score\"])\n",
    "df['Rotten Tomatoes Score'].head()"
   ]
  },
  {
   "cell_type": "code",
   "execution_count": 18,
   "id": "f4e34442",
   "metadata": {},
   "outputs": [],
   "source": [
    "# Formatting the IMDB scores\n",
    "df['IMDB Score'] = df.apply(lambda x: x['IMDB Score'] * 10, axis=1)"
   ]
  },
  {
   "cell_type": "code",
   "execution_count": 19,
   "id": "b5db7f18",
   "metadata": {},
   "outputs": [
    {
     "data": {
      "text/plain": [
       "0    78.0\n",
       "1    84.0\n",
       "2    79.0\n",
       "3    73.0\n",
       "4    84.0\n",
       "Name: IMDB Score, dtype: float64"
      ]
     },
     "execution_count": 19,
     "metadata": {},
     "output_type": "execute_result"
    }
   ],
   "source": [
    "df[\"IMDB Score\"].head()"
   ]
  },
  {
   "cell_type": "code",
   "execution_count": 28,
   "id": "7d64ef7c",
   "metadata": {},
   "outputs": [
    {
     "name": "stdout",
     "output_type": "stream",
     "text": [
      "y = 9380630.74x + -109890544.06\n"
     ]
    },
    {
     "data": {
      "image/png": "[encoded data removed]",
      "text/plain": [
       "<Figure size 640x480 with 1 Axes>"
      ]
     },
     "metadata": {},
     "output_type": "display_data"
    }
   ],
   "source": [
    "# sales (y value)\n",
    "plt.scatter(df['IMDB Score'], df['World Sales'\n",
    "                                ])\n",
    "# line of regression\n",
    "x_values = df['IMDB Score']\n",
    "y_values = df['World Sales']\n",
    "(slope, intercept, rvalue, pvalue, stderr) = linregress(x_values, y_values)\n",
    "regress_values = x_values * slope + intercept\n",
    "plt.plot(x_values,regress_values,\"r-\")\n",
    "\n",
    "\n",
    "# Labels\n",
    "plt.ylabel(\"Sales in Millions\")\n",
    "plt.xlabel(\"IMDB Rating\")\n",
    "plt.title('Audience Reception')\n",
    "line_eq = \"y = \" + str(round(slope,2)) + \"x + \" + str(round(intercept,2))\n",
    "#plt.annotate(line_eq,(5.8,0.8),fontsize=15,color=\"red\")\n",
    "print(line_eq)"
   ]
  },
  {
   "cell_type": "code",
   "execution_count": 42,
   "id": "174af014",
   "metadata": {},
   "outputs": [
    {
     "data": {
      "text/plain": [
       "Text(0.5, 1.0, 'Critical Reception')"
      ]
     },
     "execution_count": 42,
     "metadata": {},
     "output_type": "execute_result"
    },
    {
     "data": {
      "image/png": "[encoded data removed]",
      "text/plain": [
       "<Figure size 640x480 with 1 Axes>"
      ]
     },
     "metadata": {},
     "output_type": "display_data"
    }
   ],
   "source": [
    "# isolate audience response (rotten Tomatoes)\n",
    "# sales (y value)\n",
    "plt.scatter(df['Rotten Tomatoes Score'], df['World Sales'\n",
    "                                ])\n",
    "# sales (y value)\n",
    "\n",
    "# line of regression\n",
    "x_values = df['Rotten Tomatoes Score']\n",
    "y_values = df['World Sales']\n",
    "(slope, intercept, rvalue, pvalue, stderr) = linregress(x_values, y_values)\n",
    "regress_values = x_values * slope + intercept\n",
    "plt.plot(x_values,regress_values,\"r-\")\n",
    "\n",
    "\n",
    "# Labels\n",
    "plt.ylabel(\"Sales in Millions\")\n",
    "plt.xlabel(\"Rotten Tomatoes Score\")\n",
    "plt.title('Critical Reception')\n",
    "#plt.savefig('line_plot.pdf')"
   ]
  },
  {
   "cell_type": "code",
   "execution_count": null,
   "id": "618873c9",
   "metadata": {},
   "outputs": [],
   "source": []
  }
 ],
 "metadata": {
  "kernelspec": {
   "display_name": "PythonData",
   "language": "python",
   "name": "pythondata"
  },
  "language_info": {
   "codemirror_mode": {
    "name": "ipython",
    "version": 3
   },
   "file_extension": ".py",
   "mimetype": "text/x-python",
   "name": "python",
   "nbconvert_exporter": "python",
   "pygments_lexer": "ipython3",
   "version": "3.9.13"
  }
 },
 "nbformat": 4,
 "nbformat_minor": 5
}

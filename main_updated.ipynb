{
 "cells": [
  {
   "cell_type": "code",
   "execution_count": 3,
   "id": "0bc50d23",
   "metadata": {},
   "outputs": [],
   "source": [
    "# import dependencies\n",
    "import pandas as pd\n",
    "#from apiKey import api_key\n",
    "import requests\n",
    "import matplotlib.pyplot as plt\n",
    "import numpy as np\n",
    "from scipy.stats import linregress\n"
   ]
  },
  {
   "cell_type": "code",
   "execution_count": null,
   "id": "144b6dac",
   "metadata": {},
   "outputs": [],
   "source": [
    "# pull data from csv\n",
    "file_one = \"Resources/highest_grossing_movies.csv\"\n",
    "df = pd.read_csv(file_one)\n",
    "df.head()"
   ]
  },
  {
   "cell_type": "code",
   "execution_count": 3,
   "id": "301c8e4a",
   "metadata": {},
   "outputs": [],
   "source": [
    "# create a list to loop through the top1000\n",
    "titles = df['Title'].str[:-7].values.tolist()\n"
   ]
  },
  {
   "cell_type": "code",
   "execution_count": 3,
   "id": "b6598387",
   "metadata": {},
   "outputs": [],
   "source": []
  },
  {
   "cell_type": "code",
   "execution_count": null,
   "id": "fb611d54",
   "metadata": {},
   "outputs": [],
   "source": []
  },
  {
   "cell_type": "code",
   "execution_count": 4,
   "id": "b4ae7d41",
   "metadata": {},
   "outputs": [
    {
     "data": {
      "text/plain": [
       "Index(['Unnamed: 0', 'Title', 'Movie Info', 'Distributor', 'Release Date',\n",
       "       'Domestic Sales (in $)', 'International Sales (in $)',\n",
       "       'World Sales (in $)', 'Genre', 'Movie Runtime', 'License'],\n",
       "      dtype='object')"
      ]
     },
     "execution_count": 4,
     "metadata": {},
     "output_type": "execute_result"
    }
   ],
   "source": [
    "df.columns"
   ]
  },
  {
   "cell_type": "code",
   "execution_count": 5,
   "id": "c6c0f7fa",
   "metadata": {},
   "outputs": [
    {
     "data": {
      "text/plain": [
       "{'Title': 'Star Wars: Episode VII - The Force Awakens',\n",
       " 'Year': '2015',\n",
       " 'Rated': 'PG-13',\n",
       " 'Released': '18 Dec 2015',\n",
       " 'Runtime': '138 min',\n",
       " 'Genre': 'Action, Adventure, Sci-Fi',\n",
       " 'Director': 'J.J. Abrams',\n",
       " 'Writer': 'Lawrence Kasdan, J.J. Abrams, Michael Arndt',\n",
       " 'Actors': 'Daisy Ridley, John Boyega, Oscar Isaac',\n",
       " 'Plot': 'As a new threat to the galaxy rises, Rey, a desert scavenger, and Finn, an ex-stormtrooper, must join Han Solo and Chewbacca to search for the one hope of restoring peace.',\n",
       " 'Language': 'English',\n",
       " 'Country': 'United States',\n",
       " 'Awards': 'Nominated for 5 Oscars. 64 wins & 139 nominations total',\n",
       " 'Poster': 'https://m.media-amazon.com/images/M/MV5BOTAzODEzNDAzMl5BMl5BanBnXkFtZTgwMDU1MTgzNzE@._V1_SX300.jpg',\n",
       " 'Ratings': [{'Source': 'Internet Movie Database', 'Value': '7.8/10'},\n",
       "  {'Source': 'Rotten Tomatoes', 'Value': '93%'},\n",
       "  {'Source': 'Metacritic', 'Value': '80/100'}],\n",
       " 'Metascore': '80',\n",
       " 'imdbRating': '7.8',\n",
       " 'imdbVotes': '936,253',\n",
       " 'imdbID': 'tt2488496',\n",
       " 'Type': 'movie',\n",
       " 'DVD': '05 Apr 2016',\n",
       " 'BoxOffice': '$936,662,225',\n",
       " 'Production': 'N/A',\n",
       " 'Website': 'N/A',\n",
       " 'Response': 'True'}"
      ]
     },
     "execution_count": 5,
     "metadata": {},
     "output_type": "execute_result"
    }
   ],
   "source": [
    "# Interacting with the API\n",
    "url = f'http://www.omdbapi.com/?apikey={api_key}&t='\n",
    "# make a list to append json data\n",
    "title = 'Star Wars: Episode VII - The Force Awakens'\n",
    "rt_movies_ls = [] # we'll turn this into a data frame? \n",
    "imdb_movies_ls = []\n",
    "director_ls = []\n",
    "actor_ls = []\n",
    "title_ls = []\n",
    "year_ls = []\n",
    "rated_ls = []\n",
    "length_ls = []\n",
    "movie_json = requests.get(url + title).json()\n",
    "movie_json\n",
    "\n",
    "# request limit is 1000 daily\n",
    "# we need to cut list down to 100"
   ]
  },
  {
   "cell_type": "code",
   "execution_count": 6,
   "id": "0c9e8b2c",
   "metadata": {},
   "outputs": [
    {
     "data": {
      "text/plain": [
       "{'Title': 'Prometheus',\n",
       " 'Year': '2012',\n",
       " 'Rated': 'R',\n",
       " 'Released': '08 Jun 2012',\n",
       " 'Runtime': '124 min',\n",
       " 'Genre': 'Adventure, Mystery, Sci-Fi',\n",
       " 'Director': 'Ridley Scott',\n",
       " 'Writer': \"Jon Spaihts, Damon Lindelof, Dan O'Bannon\",\n",
       " 'Actors': 'Noomi Rapace, Logan Marshall-Green, Michael Fassbender',\n",
       " 'Plot': 'Following clues to the origin of mankind, a team finds a structure on a distant moon, but they soon realize they are not alone.',\n",
       " 'Language': 'English, Gaelic',\n",
       " 'Country': 'United Kingdom, United States',\n",
       " 'Awards': 'Nominated for 1 Oscar. 6 wins & 47 nominations total',\n",
       " 'Poster': 'https://m.media-amazon.com/images/M/MV5BMTY3NzIyNTA2NV5BMl5BanBnXkFtZTcwNzE2NjI4Nw@@._V1_SX300.jpg',\n",
       " 'Ratings': [{'Source': 'Internet Movie Database', 'Value': '7.0/10'},\n",
       "  {'Source': 'Rotten Tomatoes', 'Value': '73%'},\n",
       "  {'Source': 'Metacritic', 'Value': '64/100'}],\n",
       " 'Metascore': '64',\n",
       " 'imdbRating': '7.0',\n",
       " 'imdbVotes': '615,121',\n",
       " 'imdbID': 'tt1446714',\n",
       " 'Type': 'movie',\n",
       " 'DVD': '09 Oct 2012',\n",
       " 'BoxOffice': '$126,477,084',\n",
       " 'Production': 'N/A',\n",
       " 'Website': 'N/A',\n",
       " 'Response': 'True'}"
      ]
     },
     "execution_count": 6,
     "metadata": {},
     "output_type": "execute_result"
    }
   ],
   "source": [
    "#\n",
    "for title in titles[:500]:\n",
    "    try:\n",
    "        # access json data\n",
    "        movie_json = requests.get(url + title).json()\n",
    "        movie_ratings_rt = movie_json['Ratings'][1]['Value']\n",
    "        movie_ratings_imdb = movie_json['imdbRating']\n",
    "        movie_director = movie_json['Director']\n",
    "        movie_actors = movie_json['Actors']\n",
    "        movie_year = movie_json['Year']\n",
    "        movie_rating = movie_json['Rated']\n",
    "        movie_length = movie_json['Runtime']\n",
    "        #append json to movie_ls list\n",
    "        rt_movies_ls.append(movie_ratings_rt)\n",
    "        imdb_movies_ls.append(movie_ratings_imdb)\n",
    "        director_ls.append(movie_director)\n",
    "        actor_ls.append(movie_actors)\n",
    "        title_ls.append(title)\n",
    "        year_ls.append(movie_year)\n",
    "        rated_ls.append(movie_rating)\n",
    "        length_ls.append(movie_length)\n",
    "    except:\n",
    "        pass\n",
    "# convert movie list into data frame\n",
    "movie_json"
   ]
  },
  {
   "cell_type": "code",
   "execution_count": 12,
   "id": "1e94ae23",
   "metadata": {},
   "outputs": [
    {
     "name": "stdout",
     "output_type": "stream",
     "text": [
      "Star Wars: Episode VII - The Force Awakens\n",
      "Daisy Ridley, John Boyega, Oscar Isaac\n",
      "J.J. Abrams\n",
      "2015\n",
      "93%\n",
      "7.8\n"
     ]
    }
   ],
   "source": [
    "\n",
    "\n",
    "#print(title_ls[0])\n",
    "#print(actor_ls[0])\n",
    "#print(director_ls[0])\n",
    "\n",
    "#print(year_ls[0])\n",
    "#print(rt_movies_ls[0])\n",
    "#print(imdb_movies_ls[0])\n",
    "\n",
    "\n"
   ]
  },
  {
   "cell_type": "code",
   "execution_count": 9,
   "id": "5eed1204",
   "metadata": {},
   "outputs": [
    {
     "data": {
      "text/html": [
       "<div>\n",
       "<style scoped>\n",
       "    .dataframe tbody tr th:only-of-type {\n",
       "        vertical-align: middle;\n",
       "    }\n",
       "\n",
       "    .dataframe tbody tr th {\n",
       "        vertical-align: top;\n",
       "    }\n",
       "\n",
       "    .dataframe thead th {\n",
       "        text-align: right;\n",
       "    }\n",
       "</style>\n",
       "<table border=\"1\" class=\"dataframe\">\n",
       "  <thead>\n",
       "    <tr style=\"text-align: right;\">\n",
       "      <th></th>\n",
       "      <th>Title</th>\n",
       "      <th>World Sales</th>\n",
       "      <th>Year Released</th>\n",
       "      <th>Rotten Tomatoes Score</th>\n",
       "      <th>IMDB Score</th>\n",
       "      <th>Director(s)</th>\n",
       "      <th>Headlining Actor(s)</th>\n",
       "      <th>Studio</th>\n",
       "      <th>Runtime</th>\n",
       "      <th>Rating</th>\n",
       "      <th>Genre</th>\n",
       "    </tr>\n",
       "  </thead>\n",
       "  <tbody>\n",
       "    <tr>\n",
       "      <th>0</th>\n",
       "      <td>Star Wars: Episode VII - The Force Awakens</td>\n",
       "      <td>2069521700</td>\n",
       "      <td>2015</td>\n",
       "      <td>93%</td>\n",
       "      <td>7.8</td>\n",
       "      <td>J.J. Abrams</td>\n",
       "      <td>Daisy Ridley, John Boyega, Oscar Isaac</td>\n",
       "      <td>Walt Disney Studios Motion Pictures</td>\n",
       "      <td>138 min</td>\n",
       "      <td>PG-13</td>\n",
       "      <td>['Action', 'Adventure', 'Sci-Fi']</td>\n",
       "    </tr>\n",
       "    <tr>\n",
       "      <th>1</th>\n",
       "      <td>Avengers: Endgame</td>\n",
       "      <td>2797501328</td>\n",
       "      <td>2019</td>\n",
       "      <td>94%</td>\n",
       "      <td>8.4</td>\n",
       "      <td>Anthony Russo, Joe Russo</td>\n",
       "      <td>Robert Downey Jr., Chris Evans, Mark Ruffalo</td>\n",
       "      <td>Walt Disney Studios Motion Pictures</td>\n",
       "      <td>181 min</td>\n",
       "      <td>PG-13</td>\n",
       "      <td>['Action', 'Adventure', 'Drama', 'Sci-Fi']</td>\n",
       "    </tr>\n",
       "    <tr>\n",
       "      <th>2</th>\n",
       "      <td>Avatar</td>\n",
       "      <td>2847246203</td>\n",
       "      <td>2009</td>\n",
       "      <td>82%</td>\n",
       "      <td>7.9</td>\n",
       "      <td>James Cameron</td>\n",
       "      <td>Sam Worthington, Zoe Saldana, Sigourney Weaver</td>\n",
       "      <td>Twentieth Century Fox</td>\n",
       "      <td>162 min</td>\n",
       "      <td>PG-13</td>\n",
       "      <td>['Action', 'Adventure', 'Fantasy', 'Sci-Fi']</td>\n",
       "    </tr>\n",
       "    <tr>\n",
       "      <th>3</th>\n",
       "      <td>Black Panther</td>\n",
       "      <td>1347597973</td>\n",
       "      <td>2018</td>\n",
       "      <td>96%</td>\n",
       "      <td>7.3</td>\n",
       "      <td>Ryan Coogler</td>\n",
       "      <td>Chadwick Boseman, Michael B. Jordan, Lupita Ny...</td>\n",
       "      <td>Walt Disney Studios Motion Pictures</td>\n",
       "      <td>134 min</td>\n",
       "      <td>PG-13</td>\n",
       "      <td>['Action', 'Adventure', 'Sci-Fi']</td>\n",
       "    </tr>\n",
       "    <tr>\n",
       "      <th>4</th>\n",
       "      <td>Avengers: Infinity War</td>\n",
       "      <td>2048359754</td>\n",
       "      <td>2018</td>\n",
       "      <td>85%</td>\n",
       "      <td>8.4</td>\n",
       "      <td>Anthony Russo, Joe Russo</td>\n",
       "      <td>Robert Downey Jr., Chris Hemsworth, Mark Ruffalo</td>\n",
       "      <td>Walt Disney Studios Motion Pictures</td>\n",
       "      <td>149 min</td>\n",
       "      <td>PG-13</td>\n",
       "      <td>['Action', 'Adventure', 'Sci-Fi']</td>\n",
       "    </tr>\n",
       "  </tbody>\n",
       "</table>\n",
       "</div>"
      ],
      "text/plain": [
       "                                        Title  World Sales Year Released  \\\n",
       "0  Star Wars: Episode VII - The Force Awakens   2069521700          2015   \n",
       "1                           Avengers: Endgame   2797501328          2019   \n",
       "2                                      Avatar   2847246203          2009   \n",
       "3                               Black Panther   1347597973          2018   \n",
       "4                      Avengers: Infinity War   2048359754          2018   \n",
       "\n",
       "  Rotten Tomatoes Score IMDB Score               Director(s)  \\\n",
       "0                   93%        7.8               J.J. Abrams   \n",
       "1                   94%        8.4  Anthony Russo, Joe Russo   \n",
       "2                   82%        7.9             James Cameron   \n",
       "3                   96%        7.3              Ryan Coogler   \n",
       "4                   85%        8.4  Anthony Russo, Joe Russo   \n",
       "\n",
       "                                 Headlining Actor(s)  \\\n",
       "0             Daisy Ridley, John Boyega, Oscar Isaac   \n",
       "1       Robert Downey Jr., Chris Evans, Mark Ruffalo   \n",
       "2     Sam Worthington, Zoe Saldana, Sigourney Weaver   \n",
       "3  Chadwick Boseman, Michael B. Jordan, Lupita Ny...   \n",
       "4   Robert Downey Jr., Chris Hemsworth, Mark Ruffalo   \n",
       "\n",
       "                                Studio  Runtime Rating  \\\n",
       "0  Walt Disney Studios Motion Pictures  138 min  PG-13   \n",
       "1  Walt Disney Studios Motion Pictures  181 min  PG-13   \n",
       "2                Twentieth Century Fox  162 min  PG-13   \n",
       "3  Walt Disney Studios Motion Pictures  134 min  PG-13   \n",
       "4  Walt Disney Studios Motion Pictures  149 min  PG-13   \n",
       "\n",
       "                                          Genre  \n",
       "0             ['Action', 'Adventure', 'Sci-Fi']  \n",
       "1    ['Action', 'Adventure', 'Drama', 'Sci-Fi']  \n",
       "2  ['Action', 'Adventure', 'Fantasy', 'Sci-Fi']  \n",
       "3             ['Action', 'Adventure', 'Sci-Fi']  \n",
       "4             ['Action', 'Adventure', 'Sci-Fi']  "
      ]
     },
     "execution_count": 9,
     "metadata": {},
     "output_type": "execute_result"
    }
   ],
   "source": [
    "full_moviels_df = pd.DataFrame()\n",
    "full_moviels_df['Title'] = title_ls\n",
    "full_moviels_df['World Sales'] = df['World Sales (in $)']\n",
    "full_moviels_df['Year Released'] = year_ls\n",
    "full_moviels_df['Rotten Tomatoes Score'] = rt_movies_ls\n",
    "full_moviels_df['IMDB Score'] = imdb_movies_ls\n",
    "full_moviels_df['Director(s)'] = director_ls\n",
    "full_moviels_df['Headlining Actor(s)'] = actor_ls\n",
    "full_moviels_df['Studio'] = df['Distributor']\n",
    "full_moviels_df['Runtime'] = length_ls\n",
    "full_moviels_df['Rating'] = rated_ls\n",
    "full_moviels_df['Genre'] = df['Genre']\n",
    "full_moviels_df.head()   "
   ]
  },
  {
   "cell_type": "code",
   "execution_count": 10,
   "id": "efc3781c",
   "metadata": {},
   "outputs": [],
   "source": [
    "full_moviels_df.to_csv(\"Output/Movie_Data.csv\")"
   ]
  },
  {
   "cell_type": "code",
   "execution_count": 38,
   "id": "1678bda6",
   "metadata": {},
   "outputs": [
    {
     "data": {
      "text/html": [
       "<div>\n",
       "<style scoped>\n",
       "    .dataframe tbody tr th:only-of-type {\n",
       "        vertical-align: middle;\n",
       "    }\n",
       "\n",
       "    .dataframe tbody tr th {\n",
       "        vertical-align: top;\n",
       "    }\n",
       "\n",
       "    .dataframe thead th {\n",
       "        text-align: right;\n",
       "    }\n",
       "</style>\n",
       "<table border=\"1\" class=\"dataframe\">\n",
       "  <thead>\n",
       "    <tr style=\"text-align: right;\">\n",
       "      <th></th>\n",
       "      <th>0</th>\n",
       "    </tr>\n",
       "  </thead>\n",
       "  <tbody>\n",
       "    <tr>\n",
       "      <th>0</th>\n",
       "      <td>93%</td>\n",
       "    </tr>\n",
       "    <tr>\n",
       "      <th>1</th>\n",
       "      <td>94%</td>\n",
       "    </tr>\n",
       "    <tr>\n",
       "      <th>2</th>\n",
       "      <td>82%</td>\n",
       "    </tr>\n",
       "    <tr>\n",
       "      <th>3</th>\n",
       "      <td>96%</td>\n",
       "    </tr>\n",
       "    <tr>\n",
       "      <th>4</th>\n",
       "      <td>85%</td>\n",
       "    </tr>\n",
       "  </tbody>\n",
       "</table>\n",
       "</div>"
      ],
      "text/plain": [
       "     0\n",
       "0  93%\n",
       "1  94%\n",
       "2  82%\n",
       "3  96%\n",
       "4  85%"
      ]
     },
     "execution_count": 38,
     "metadata": {},
     "output_type": "execute_result"
    }
   ],
   "source": [
    "# convert movie list into data frame\n",
    "#movie_list_df = pd.DataFrame(movies_ls)\n",
    "#movie_list_df[\"Metacritic Rating\"] = movie_list_df[2]['Value']\n",
    "#movie_list_df"
   ]
  },
  {
   "cell_type": "code",
   "execution_count": 18,
   "id": "1ef0f904",
   "metadata": {},
   "outputs": [],
   "source": [
    "# merge dataframes"
   ]
  },
  {
   "cell_type": "code",
   "execution_count": null,
   "id": "1db9abfc",
   "metadata": {},
   "outputs": [],
   "source": [
    "# Bar Graphs on directors  sales, actors  sales,  studio sales,\n",
    "# Combine list of actors into 1 large list to run a count of how many times an actor appears across all movies on list\n",
    "\n",
    "#MK"
   ]
  },
  {
   "cell_type": "code",
   "execution_count": 282,
   "id": "3a7e673b",
   "metadata": {},
   "outputs": [],
   "source": [
    "# pull data\n",
    "file = \"Output/Movie_Data.csv\"\n",
    "full_moviels_df = pd.read_csv(file)\n",
    "#pull sales, year, and genre columns\n",
    "genre_df = full_moviels_df[['World Sales', 'Year Released', 'Genre']]"
   ]
  },
  {
   "cell_type": "code",
   "execution_count": 283,
   "id": "3264ad01",
   "metadata": {},
   "outputs": [],
   "source": [
    "# seperate genres into new columns\n",
    "\n",
    "genre_df = pd.concat([genre_df, genre_df['Genre'].str.split(',', expand=True)], axis=1)\n",
    "genre_df = genre_df.drop(columns = 'Genre')\n",
    "#RM"
   ]
  },
  {
   "cell_type": "code",
   "execution_count": 284,
   "id": "f3cd27c9",
   "metadata": {},
   "outputs": [],
   "source": [
    "# Pull data from 2009 to 2019\n",
    "genre_df = genre_df.loc[genre_df['Year Released'] > 2008]\n",
    "genre_df = genre_df.loc[genre_df['Year Released'] < 2020]"
   ]
  },
  {
   "cell_type": "code",
   "execution_count": 285,
   "id": "a00ec03b",
   "metadata": {},
   "outputs": [],
   "source": [
    "# label new columns\n",
    "\n",
    "genres = {genre_df.columns[2]: 'Genre_1', \n",
    "          genre_df.columns[3]: 'Genre_2',\n",
    "          genre_df.columns[4]: 'Genre_3',\n",
    "          genre_df.columns[5]: 'Genre_4',\n",
    "          genre_df.columns[6]: 'Genre_5',\n",
    "          genre_df.columns[7]: 'Genre_6',\n",
    "          genre_df.columns[8]: 'Genre_7',\n",
    "          genre_df.columns[9]: 'Genre_8'\n",
    "         }\n",
    "genre_df = genre_df.rename(columns=genres)"
   ]
  },
  {
   "cell_type": "code",
   "execution_count": 286,
   "id": "0bfc4c91",
   "metadata": {},
   "outputs": [],
   "source": [
    "# revmove special characters from genre cells\n",
    "\n",
    "genre_df['Genre_1'] = genre_df['Genre_1'].str.replace('\\W', '', regex=True)\n",
    "genre_df['Genre_2'] = genre_df['Genre_2'].str.replace('\\W', '', regex=True)\n",
    "genre_df['Genre_3'] = genre_df['Genre_3'].str.replace('\\W', '', regex=True)\n",
    "genre_df['Genre_4'] = genre_df['Genre_4'].str.replace('\\W', '', regex=True)\n",
    "genre_df['Genre_5'] = genre_df['Genre_5'].str.replace('\\W', '', regex=True)\n",
    "genre_df['Genre_6'] = genre_df['Genre_6'].str.replace('\\W', '', regex=True)\n",
    "genre_df['Genre_7'] = genre_df['Genre_7'].str.replace('\\W', '', regex=True)\n",
    "genre_df['Genre_8'] = genre_df['Genre_8'].str.replace('\\W', '', regex=True)"
   ]
  },
  {
   "cell_type": "code",
   "execution_count": 287,
   "id": "9c449ec4",
   "metadata": {},
   "outputs": [],
   "source": [
    "# find all genres and years\n",
    "#diff_genres = pd.concat([genre_df['Genre_1'],\n",
    "           #genre_df['Genre_2'],\n",
    "           #genre_df['Genre_3'],\n",
    "           #genre_df['Genre_4'],\n",
    "           #genre_df['Genre_5'],\n",
    "           #genre_df['Genre_6'],\n",
    "           #genre_df['Genre_7'],\n",
    "           #genre_df['Genre_8']]).unique()\n",
    "#years = genre_df['Year Released'].unique()"
   ]
  },
  {
   "cell_type": "code",
   "execution_count": 288,
   "id": "98d8390e",
   "metadata": {},
   "outputs": [],
   "source": [
    "# sum the sales by year and genre\n",
    "genre_1 = genre_df.groupby(['Year Released', 'Genre_1']).agg({'World Sales': 'sum'})\n",
    "genre_1 = genre_1.reset_index()\n",
    "genre_1 = genre_1.rename(columns={'Genre_1':'Genre'})\n",
    "\n",
    "genre_2 = genre_df.groupby(['Year Released', 'Genre_2']).agg({'World Sales': 'sum'})\n",
    "genre_2 = genre_2.reset_index()\n",
    "genre_2 = genre_2.rename(columns={'Genre_2':'Genre'})\n",
    "\n",
    "genre_3 = genre_df.groupby(['Year Released', 'Genre_3']).agg({'World Sales': 'sum'})\n",
    "genre_3 = genre_3.reset_index()\n",
    "genre_3 = genre_3.rename(columns={'Genre_3':'Genre'})\n",
    "\n",
    "genre_4 = genre_df.groupby(['Year Released', 'Genre_4']).agg({'World Sales': 'sum'})\n",
    "genre_4 = genre_4.reset_index()\n",
    "genre_4 = genre_4.rename(columns={'Genre_4':'Genre'})\n",
    "\n",
    "genre_5 = genre_df.groupby(['Year Released', 'Genre_5']).agg({'World Sales': 'sum'})\n",
    "genre_5 = genre_5.reset_index()\n",
    "genre_5 = genre_5.rename(columns={'Genre_5':'Genre'})\n",
    "\n",
    "genre_6 = genre_df.groupby(['Year Released', 'Genre_6']).agg({'World Sales': 'sum'})\n",
    "genre_6 = genre_6.reset_index()\n",
    "genre_6 = genre_6.rename(columns={'Genre_6':'Genre'})\n",
    "\n",
    "genre_7 = genre_df.groupby(['Year Released', 'Genre_7']).agg({'World Sales': 'sum'})\n",
    "genre_7 = genre_7.reset_index()\n",
    "genre_7 = genre_7.rename(columns={'Genre_7':'Genre'})\n",
    "\n",
    "genre_8 = genre_df.groupby(['Year Released', 'Genre_8']).agg({'World Sales': 'sum'})\n",
    "genre_8 = genre_8.reset_index()\n",
    "genre_8 = genre_8.rename(columns={'Genre_8':'Genre'})\n",
    "\n",
    "# reset index in order to rename genre columns for merging all info\n",
    "final_genre = pd.concat([genre_1,\n",
    "                         genre_2,\n",
    "                         genre_3,\n",
    "                         genre_4,\n",
    "                         genre_5,\n",
    "                         genre_6,\n",
    "                         genre_7,\n",
    "                         genre_8]).groupby(['Year Released','Genre']).sum().reset_index()"
   ]
  },
  {
   "cell_type": "code",
   "execution_count": 289,
   "id": "85073b68",
   "metadata": {},
   "outputs": [
    {
     "data": {
      "text/plain": [
       "Action       11\n",
       "SciFi        11\n",
       "Animation    11\n",
       "Comedy       11\n",
       "Drama        11\n",
       "Family       11\n",
       "Fantasy      11\n",
       "Thriller     11\n",
       "Adventure    11\n",
       "Crime        10\n",
       "Musical       9\n",
       "Mystery       9\n",
       "Romance       9\n",
       "Biography     7\n",
       "Music         6\n",
       "Horror        6\n",
       "History       5\n",
       "Sport         4\n",
       "War           4\n",
       "Western       3\n",
       "Name: Genre, dtype: int64"
      ]
     },
     "execution_count": 289,
     "metadata": {},
     "output_type": "execute_result"
    }
   ],
   "source": [
    "# Identify the most popular genres\n",
    "final_genre['Genre'].value_counts()"
   ]
  },
  {
   "cell_type": "code",
   "execution_count": 292,
   "id": "c44f79a2",
   "metadata": {},
   "outputs": [
    {
     "data": {
      "image/png": "[encoded data removed]",
      "text/plain": [
       "<Figure size 640x480 with 1 Axes>"
      ]
     },
     "metadata": {},
     "output_type": "display_data"
    }
   ],
   "source": [
    "# Retrieve Action world sales\n",
    "final_action = final_genre.loc[final_genre['Genre'] == 'Action']\n",
    "action_y_values = final_action['World Sales']\n",
    "x_values = final_action['Year Released']\n",
    "\n",
    "# Adventure world sales\n",
    "final_adventure = final_genre.loc[final_genre['Genre'] == 'Adventure']\n",
    "adventure_y_values = final_adventure['World Sales']\n",
    "\n",
    "#Drama world sales\n",
    "final_drama = final_genre.loc[final_genre['Genre'] == 'Drama']\n",
    "drama_y_values = final_drama['World Sales']\n",
    "\n",
    "#SciFi world sales\n",
    "final_scifi = final_genre.loc[final_genre['Genre'] == 'SciFi']\n",
    "scifi_y_values = final_scifi['World Sales']\n",
    "\n",
    "# Animation world sales\n",
    "final_animation = final_genre.loc[final_genre['Genre'] == 'Animation']\n",
    "animation_y_values = final_animation['World Sales']\n",
    "\n",
    "# Comedy world sales\n",
    "final_comedy = final_genre.loc[final_genre['Genre'] == 'Comedy']\n",
    "comedy_y_values = final_comedy['World Sales']\n",
    "\n",
    "# Family world sales\n",
    "final_family = final_genre.loc[final_genre['Genre'] == 'Family']\n",
    "family_y_values = final_family['World Sales']\n",
    "\n",
    "# Fantasy world sales\n",
    "final_fantasy = final_genre.loc[final_genre['Genre'] == 'Fantasy']\n",
    "fantasy_y_values = final_fantasy['World Sales']\n",
    "\n",
    "# Thriller world sales\n",
    "final_thriller = final_genre.loc[final_genre['Genre'] == 'Thriller']\n",
    "thriller_y_values = final_thriller['World Sales']\n",
    "\n",
    "\n",
    "#plot lines\n",
    "action_plot = plt.plot(x_values, action_y_values, marker ='o', color='blue', label=\"Action\")\n",
    "adventure_y_plot = plt.plot(x_values, adventure_y_values, marker ='o', color='red', label=\"Adventure\")\n",
    "drama_y_plot = plt.plot(x_values, drama_y_values, marker ='o', color='green', label=\"Drama\")\n",
    "scifi_yplot = plt.plot(x_values, scifi_y_values, marker ='o', color='cyan', label=\"SciFi\")\n",
    "animation_yplot = plt.plot(x_values, animation_y_values, marker ='o', color='gold', label=\"Animation\")\n",
    "comedy_yplot = plt.plot(x_values, animation_y_values, marker ='o', color='indigo', label=\"Comedy\")\n",
    "family_yplot = plt.plot(x_values, family_y_values, marker ='o', color='silver', label=\"Family\")\n",
    "fantasy_yplot = plt.plot(x_values, fantasy_y_values, marker ='o', color='deeppink', label=\"Fantasy\")\n",
    "thriller_yplot = plt.plot(x_values, thriller_y_values, marker ='o', color='black', label=\"Thriller\")\n",
    "\n",
    "plt.legend(loc=\"upper left\") # plot legend\n",
    "plt.ticklabel_format(style='plain')\n",
    "# titles\n",
    "plt.title(\"Genre Performance Over the Years\")\n",
    "plt.xlabel(\"Years\")\n",
    "plt.ylabel(\"Sum of Genre World Sales\")\n",
    "plt.xticks(x_values, rotation=90) # show all x values and rotate\n",
    "plt.gca().yaxis.set_major_formatter(plt.matplotlib.ticker.StrMethodFormatter('{x:,.0f}')) # add commas to yticks\n",
    "plt.show()"
   ]
  },
  {
   "cell_type": "code",
   "execution_count": 21,
   "id": "de365dcd",
   "metadata": {},
   "outputs": [],
   "source": [
    "# Bar chart for movie rated vs. box office\n",
    "\n",
    "#EP"
   ]
  },
  {
   "cell_type": "code",
   "execution_count": null,
   "id": "92116a50",
   "metadata": {},
   "outputs": [],
   "source": [
    "# Pie chart of Genre Percentage in top grossing\n",
    "\n",
    "#DV"
   ]
  },
  {
   "cell_type": "code",
   "execution_count": null,
   "id": "11ee8305",
   "metadata": {},
   "outputs": [],
   "source": [
    "# Scatter plot for audience reception vs. sales\n",
    "# Scatter plot for critic reception vs. sales\n",
    "\n",
    "#ET"
   ]
  },
  {
   "cell_type": "code",
   "execution_count": null,
   "id": "618873c9",
   "metadata": {},
   "outputs": [],
   "source": []
  }
 ],
 "metadata": {
  "kernelspec": {
   "display_name": "PythonData",
   "language": "python",
   "name": "pythondata"
  },
  "language_info": {
   "codemirror_mode": {
    "name": "ipython",
    "version": 3
   },
   "file_extension": ".py",
   "mimetype": "text/x-python",
   "name": "python",
   "nbconvert_exporter": "python",
   "pygments_lexer": "ipython3",
   "version": "3.9.13"
  }
 },
 "nbformat": 4,
 "nbformat_minor": 5
}

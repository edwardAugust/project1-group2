{
 "cells": [
  {
   "cell_type": "code",
   "execution_count": 1,
   "id": "0bc50d23",
   "metadata": {},
   "outputs": [],
   "source": [
    "# import dependencies\n",
    "import pandas as pd\n",
    "from apiKey import api_key\n",
    "import requests\n",
    "import matplotlib.pyplot as plt\n",
    "import numpy as np\n",
    "from scipy.stats import linregress\n"
   ]
  },
  {
   "cell_type": "code",
   "execution_count": 2,
   "id": "144b6dac",
   "metadata": {},
   "outputs": [
    {
     "data": {
      "text/html": [
       "<div>\n",
       "<style scoped>\n",
       "    .dataframe tbody tr th:only-of-type {\n",
       "        vertical-align: middle;\n",
       "    }\n",
       "\n",
       "    .dataframe tbody tr th {\n",
       "        vertical-align: top;\n",
       "    }\n",
       "\n",
       "    .dataframe thead th {\n",
       "        text-align: right;\n",
       "    }\n",
       "</style>\n",
       "<table border=\"1\" class=\"dataframe\">\n",
       "  <thead>\n",
       "    <tr style=\"text-align: right;\">\n",
       "      <th></th>\n",
       "      <th>Unnamed: 0</th>\n",
       "      <th>Title</th>\n",
       "      <th>Movie Info</th>\n",
       "      <th>Distributor</th>\n",
       "      <th>Release Date</th>\n",
       "      <th>Domestic Sales (in $)</th>\n",
       "      <th>International Sales (in $)</th>\n",
       "      <th>World Sales (in $)</th>\n",
       "      <th>Genre</th>\n",
       "      <th>Movie Runtime</th>\n",
       "      <th>License</th>\n",
       "    </tr>\n",
       "  </thead>\n",
       "  <tbody>\n",
       "    <tr>\n",
       "      <th>0</th>\n",
       "      <td>0</td>\n",
       "      <td>Star Wars: Episode VII - The Force Awakens (2015)</td>\n",
       "      <td>As a new threat to the galaxy rises, Rey, a de...</td>\n",
       "      <td>Walt Disney Studios Motion Pictures</td>\n",
       "      <td>December 16, 2015</td>\n",
       "      <td>936662225</td>\n",
       "      <td>1132859475</td>\n",
       "      <td>2069521700</td>\n",
       "      <td>['Action', 'Adventure', 'Sci-Fi']</td>\n",
       "      <td>2 hr 18 min</td>\n",
       "      <td>PG-13</td>\n",
       "    </tr>\n",
       "    <tr>\n",
       "      <th>1</th>\n",
       "      <td>1</td>\n",
       "      <td>Avengers: Endgame (2019)</td>\n",
       "      <td>After the devastating events of Avengers: Infi...</td>\n",
       "      <td>Walt Disney Studios Motion Pictures</td>\n",
       "      <td>April 24, 2019</td>\n",
       "      <td>858373000</td>\n",
       "      <td>1939128328</td>\n",
       "      <td>2797501328</td>\n",
       "      <td>['Action', 'Adventure', 'Drama', 'Sci-Fi']</td>\n",
       "      <td>3 hr 1 min</td>\n",
       "      <td>PG-13</td>\n",
       "    </tr>\n",
       "    <tr>\n",
       "      <th>2</th>\n",
       "      <td>2</td>\n",
       "      <td>Avatar (2009)</td>\n",
       "      <td>A paraplegic Marine dispatched to the moon Pan...</td>\n",
       "      <td>Twentieth Century Fox</td>\n",
       "      <td>December 16, 2009</td>\n",
       "      <td>760507625</td>\n",
       "      <td>2086738578</td>\n",
       "      <td>2847246203</td>\n",
       "      <td>['Action', 'Adventure', 'Fantasy', 'Sci-Fi']</td>\n",
       "      <td>2 hr 42 min</td>\n",
       "      <td>PG-13</td>\n",
       "    </tr>\n",
       "    <tr>\n",
       "      <th>3</th>\n",
       "      <td>3</td>\n",
       "      <td>Black Panther (2018)</td>\n",
       "      <td>T'Challa, heir to the hidden but advanced king...</td>\n",
       "      <td>Walt Disney Studios Motion Pictures</td>\n",
       "      <td>NaN</td>\n",
       "      <td>700426566</td>\n",
       "      <td>647171407</td>\n",
       "      <td>1347597973</td>\n",
       "      <td>['Action', 'Adventure', 'Sci-Fi']</td>\n",
       "      <td>2 hr 14 min</td>\n",
       "      <td>NaN</td>\n",
       "    </tr>\n",
       "    <tr>\n",
       "      <th>4</th>\n",
       "      <td>4</td>\n",
       "      <td>Avengers: Infinity War (2018)</td>\n",
       "      <td>The Avengers and their allies must be willing ...</td>\n",
       "      <td>Walt Disney Studios Motion Pictures</td>\n",
       "      <td>NaN</td>\n",
       "      <td>678815482</td>\n",
       "      <td>1369544272</td>\n",
       "      <td>2048359754</td>\n",
       "      <td>['Action', 'Adventure', 'Sci-Fi']</td>\n",
       "      <td>2 hr 29 min</td>\n",
       "      <td>NaN</td>\n",
       "    </tr>\n",
       "  </tbody>\n",
       "</table>\n",
       "</div>"
      ],
      "text/plain": [
       "   Unnamed: 0                                              Title  \\\n",
       "0           0  Star Wars: Episode VII - The Force Awakens (2015)   \n",
       "1           1                           Avengers: Endgame (2019)   \n",
       "2           2                                      Avatar (2009)   \n",
       "3           3                               Black Panther (2018)   \n",
       "4           4                      Avengers: Infinity War (2018)   \n",
       "\n",
       "                                          Movie Info  \\\n",
       "0  As a new threat to the galaxy rises, Rey, a de...   \n",
       "1  After the devastating events of Avengers: Infi...   \n",
       "2  A paraplegic Marine dispatched to the moon Pan...   \n",
       "3  T'Challa, heir to the hidden but advanced king...   \n",
       "4  The Avengers and their allies must be willing ...   \n",
       "\n",
       "                           Distributor       Release Date  \\\n",
       "0  Walt Disney Studios Motion Pictures  December 16, 2015   \n",
       "1  Walt Disney Studios Motion Pictures     April 24, 2019   \n",
       "2                Twentieth Century Fox  December 16, 2009   \n",
       "3  Walt Disney Studios Motion Pictures                NaN   \n",
       "4  Walt Disney Studios Motion Pictures                NaN   \n",
       "\n",
       "   Domestic Sales (in $)  International Sales (in $)  World Sales (in $)  \\\n",
       "0              936662225                  1132859475          2069521700   \n",
       "1              858373000                  1939128328          2797501328   \n",
       "2              760507625                  2086738578          2847246203   \n",
       "3              700426566                   647171407          1347597973   \n",
       "4              678815482                  1369544272          2048359754   \n",
       "\n",
       "                                          Genre Movie Runtime License  \n",
       "0             ['Action', 'Adventure', 'Sci-Fi']   2 hr 18 min   PG-13  \n",
       "1    ['Action', 'Adventure', 'Drama', 'Sci-Fi']    3 hr 1 min   PG-13  \n",
       "2  ['Action', 'Adventure', 'Fantasy', 'Sci-Fi']   2 hr 42 min   PG-13  \n",
       "3             ['Action', 'Adventure', 'Sci-Fi']   2 hr 14 min     NaN  \n",
       "4             ['Action', 'Adventure', 'Sci-Fi']   2 hr 29 min     NaN  "
      ]
     },
     "execution_count": 2,
     "metadata": {},
     "output_type": "execute_result"
    }
   ],
   "source": [
    "# pull data from csv\n",
    "file_one = \"Resources/highest_grossing_movies.csv\"\n",
    "df = pd.read_csv(file_one)\n",
    "df.head()"
   ]
  },
  {
   "cell_type": "code",
   "execution_count": 3,
   "id": "301c8e4a",
   "metadata": {},
   "outputs": [],
   "source": [
    "# create a list to loop through the top1000\n",
    "titles = df['Title'].str[:-7].values.tolist()\n"
   ]
  },
  {
   "cell_type": "code",
   "execution_count": 3,
   "id": "b6598387",
   "metadata": {},
   "outputs": [],
   "source": []
  },
  {
   "cell_type": "code",
   "execution_count": null,
   "id": "fb611d54",
   "metadata": {},
   "outputs": [],
   "source": []
  },
  {
   "cell_type": "code",
   "execution_count": 4,
   "id": "b4ae7d41",
   "metadata": {},
   "outputs": [
    {
     "data": {
      "text/plain": [
       "Index(['Unnamed: 0', 'Title', 'Movie Info', 'Distributor', 'Release Date',\n",
       "       'Domestic Sales (in $)', 'International Sales (in $)',\n",
       "       'World Sales (in $)', 'Genre', 'Movie Runtime', 'License'],\n",
       "      dtype='object')"
      ]
     },
     "execution_count": 4,
     "metadata": {},
     "output_type": "execute_result"
    }
   ],
   "source": [
    "df.columns"
   ]
  },
  {
   "cell_type": "code",
   "execution_count": 5,
   "id": "c6c0f7fa",
   "metadata": {},
   "outputs": [
    {
     "data": {
      "text/plain": [
       "{'Title': 'Star Wars: Episode VII - The Force Awakens',\n",
       " 'Year': '2015',\n",
       " 'Rated': 'PG-13',\n",
       " 'Released': '18 Dec 2015',\n",
       " 'Runtime': '138 min',\n",
       " 'Genre': 'Action, Adventure, Sci-Fi',\n",
       " 'Director': 'J.J. Abrams',\n",
       " 'Writer': 'Lawrence Kasdan, J.J. Abrams, Michael Arndt',\n",
       " 'Actors': 'Daisy Ridley, John Boyega, Oscar Isaac',\n",
       " 'Plot': 'As a new threat to the galaxy rises, Rey, a desert scavenger, and Finn, an ex-stormtrooper, must join Han Solo and Chewbacca to search for the one hope of restoring peace.',\n",
       " 'Language': 'English',\n",
       " 'Country': 'United States',\n",
       " 'Awards': 'Nominated for 5 Oscars. 64 wins & 139 nominations total',\n",
       " 'Poster': 'https://m.media-amazon.com/images/M/MV5BOTAzODEzNDAzMl5BMl5BanBnXkFtZTgwMDU1MTgzNzE@._V1_SX300.jpg',\n",
       " 'Ratings': [{'Source': 'Internet Movie Database', 'Value': '7.8/10'},\n",
       "  {'Source': 'Rotten Tomatoes', 'Value': '93%'},\n",
       "  {'Source': 'Metacritic', 'Value': '80/100'}],\n",
       " 'Metascore': '80',\n",
       " 'imdbRating': '7.8',\n",
       " 'imdbVotes': '936,253',\n",
       " 'imdbID': 'tt2488496',\n",
       " 'Type': 'movie',\n",
       " 'DVD': '05 Apr 2016',\n",
       " 'BoxOffice': '$936,662,225',\n",
       " 'Production': 'N/A',\n",
       " 'Website': 'N/A',\n",
       " 'Response': 'True'}"
      ]
     },
     "execution_count": 5,
     "metadata": {},
     "output_type": "execute_result"
    }
   ],
   "source": [
    "# Interacting with the API\n",
    "url = f'http://www.omdbapi.com/?apikey={api_key}&t='\n",
    "# make a list to append json data\n",
    "title = 'Star Wars: Episode VII - The Force Awakens'\n",
    "rt_movies_ls = [] # we'll turn this into a data frame? \n",
    "imdb_movies_ls = []\n",
    "director_ls = []\n",
    "actor_ls = []\n",
    "title_ls = []\n",
    "year_ls = []\n",
    "rated_ls = []\n",
    "length_ls = []\n",
    "movie_json = requests.get(url + title).json()\n",
    "movie_json\n",
    "\n",
    "# request limit is 1000 daily\n",
    "# we need to cut list down to 100"
   ]
  },
  {
   "cell_type": "code",
   "execution_count": 6,
   "id": "0c9e8b2c",
   "metadata": {},
   "outputs": [
    {
     "data": {
      "text/plain": [
       "{'Title': 'Prometheus',\n",
       " 'Year': '2012',\n",
       " 'Rated': 'R',\n",
       " 'Released': '08 Jun 2012',\n",
       " 'Runtime': '124 min',\n",
       " 'Genre': 'Adventure, Mystery, Sci-Fi',\n",
       " 'Director': 'Ridley Scott',\n",
       " 'Writer': \"Jon Spaihts, Damon Lindelof, Dan O'Bannon\",\n",
       " 'Actors': 'Noomi Rapace, Logan Marshall-Green, Michael Fassbender',\n",
       " 'Plot': 'Following clues to the origin of mankind, a team finds a structure on a distant moon, but they soon realize they are not alone.',\n",
       " 'Language': 'English, Gaelic',\n",
       " 'Country': 'United Kingdom, United States',\n",
       " 'Awards': 'Nominated for 1 Oscar. 6 wins & 47 nominations total',\n",
       " 'Poster': 'https://m.media-amazon.com/images/M/MV5BMTY3NzIyNTA2NV5BMl5BanBnXkFtZTcwNzE2NjI4Nw@@._V1_SX300.jpg',\n",
       " 'Ratings': [{'Source': 'Internet Movie Database', 'Value': '7.0/10'},\n",
       "  {'Source': 'Rotten Tomatoes', 'Value': '73%'},\n",
       "  {'Source': 'Metacritic', 'Value': '64/100'}],\n",
       " 'Metascore': '64',\n",
       " 'imdbRating': '7.0',\n",
       " 'imdbVotes': '615,121',\n",
       " 'imdbID': 'tt1446714',\n",
       " 'Type': 'movie',\n",
       " 'DVD': '09 Oct 2012',\n",
       " 'BoxOffice': '$126,477,084',\n",
       " 'Production': 'N/A',\n",
       " 'Website': 'N/A',\n",
       " 'Response': 'True'}"
      ]
     },
     "execution_count": 6,
     "metadata": {},
     "output_type": "execute_result"
    }
   ],
   "source": [
    "#\n",
    "for title in titles[:500]:\n",
    "    try:\n",
    "        # access json data\n",
    "        movie_json = requests.get(url + title).json()\n",
    "        movie_ratings_rt = movie_json['Ratings'][1]['Value']\n",
    "        movie_ratings_imdb = movie_json['imdbRating']\n",
    "        movie_director = movie_json['Director']\n",
    "        movie_actors = movie_json['Actors']\n",
    "        movie_year = movie_json['Year']\n",
    "        movie_rating = movie_json['Rated']\n",
    "        movie_length = movie_json['Runtime']\n",
    "        #append json to movie_ls list\n",
    "        rt_movies_ls.append(movie_ratings_rt)\n",
    "        imdb_movies_ls.append(movie_ratings_imdb)\n",
    "        director_ls.append(movie_director)\n",
    "        actor_ls.append(movie_actors)\n",
    "        title_ls.append(title)\n",
    "        year_ls.append(movie_year)\n",
    "        rated_ls.append(movie_rating)\n",
    "        length_ls.append(movie_length)\n",
    "    except:\n",
    "        pass\n",
    "# convert movie list into data frame\n",
    "movie_json"
   ]
  },
  {
   "cell_type": "code",
   "execution_count": 12,
   "id": "1e94ae23",
   "metadata": {},
   "outputs": [
    {
     "name": "stdout",
     "output_type": "stream",
     "text": [
      "Star Wars: Episode VII - The Force Awakens\n",
      "Daisy Ridley, John Boyega, Oscar Isaac\n",
      "J.J. Abrams\n",
      "2015\n",
      "93%\n",
      "7.8\n"
     ]
    }
   ],
   "source": [
    "\n",
    "\n",
    "#print(title_ls[0])\n",
    "#print(actor_ls[0])\n",
    "#print(director_ls[0])\n",
    "\n",
    "#print(year_ls[0])\n",
    "#print(rt_movies_ls[0])\n",
    "#print(imdb_movies_ls[0])\n",
    "\n",
    "\n"
   ]
  },
  {
   "cell_type": "code",
   "execution_count": 7,
   "id": "5eed1204",
   "metadata": {},
   "outputs": [
    {
     "data": {
      "text/html": [
       "<div>\n",
       "<style scoped>\n",
       "    .dataframe tbody tr th:only-of-type {\n",
       "        vertical-align: middle;\n",
       "    }\n",
       "\n",
       "    .dataframe tbody tr th {\n",
       "        vertical-align: top;\n",
       "    }\n",
       "\n",
       "    .dataframe thead th {\n",
       "        text-align: right;\n",
       "    }\n",
       "</style>\n",
       "<table border=\"1\" class=\"dataframe\">\n",
       "  <thead>\n",
       "    <tr style=\"text-align: right;\">\n",
       "      <th></th>\n",
       "      <th>Title</th>\n",
       "      <th>World Sales</th>\n",
       "      <th>Year Released</th>\n",
       "      <th>Rotten Tomatoes Score</th>\n",
       "      <th>IMDB Score</th>\n",
       "      <th>Director(s)</th>\n",
       "      <th>Headlining Actor(s)</th>\n",
       "      <th>Studio</th>\n",
       "      <th>Runtime</th>\n",
       "      <th>Rating</th>\n",
       "      <th>Genre</th>\n",
       "    </tr>\n",
       "  </thead>\n",
       "  <tbody>\n",
       "    <tr>\n",
       "      <th>0</th>\n",
       "      <td>Star Wars: Episode VII - The Force Awakens</td>\n",
       "      <td>2069521700</td>\n",
       "      <td>2015</td>\n",
       "      <td>93%</td>\n",
       "      <td>7.8</td>\n",
       "      <td>J.J. Abrams</td>\n",
       "      <td>Daisy Ridley, John Boyega, Oscar Isaac</td>\n",
       "      <td>Walt Disney Studios Motion Pictures</td>\n",
       "      <td>138 min</td>\n",
       "      <td>PG-13</td>\n",
       "      <td>['Action', 'Adventure', 'Sci-Fi']</td>\n",
       "    </tr>\n",
       "    <tr>\n",
       "      <th>1</th>\n",
       "      <td>Avengers: Endgame</td>\n",
       "      <td>2797501328</td>\n",
       "      <td>2019</td>\n",
       "      <td>94%</td>\n",
       "      <td>8.4</td>\n",
       "      <td>Anthony Russo, Joe Russo</td>\n",
       "      <td>Robert Downey Jr., Chris Evans, Mark Ruffalo</td>\n",
       "      <td>Walt Disney Studios Motion Pictures</td>\n",
       "      <td>181 min</td>\n",
       "      <td>PG-13</td>\n",
       "      <td>['Action', 'Adventure', 'Drama', 'Sci-Fi']</td>\n",
       "    </tr>\n",
       "    <tr>\n",
       "      <th>2</th>\n",
       "      <td>Avatar</td>\n",
       "      <td>2847246203</td>\n",
       "      <td>2009</td>\n",
       "      <td>82%</td>\n",
       "      <td>7.9</td>\n",
       "      <td>James Cameron</td>\n",
       "      <td>Sam Worthington, Zoe Saldana, Sigourney Weaver</td>\n",
       "      <td>Twentieth Century Fox</td>\n",
       "      <td>162 min</td>\n",
       "      <td>PG-13</td>\n",
       "      <td>['Action', 'Adventure', 'Fantasy', 'Sci-Fi']</td>\n",
       "    </tr>\n",
       "    <tr>\n",
       "      <th>3</th>\n",
       "      <td>Black Panther</td>\n",
       "      <td>1347597973</td>\n",
       "      <td>2018</td>\n",
       "      <td>96%</td>\n",
       "      <td>7.3</td>\n",
       "      <td>Ryan Coogler</td>\n",
       "      <td>Chadwick Boseman, Michael B. Jordan, Lupita Ny...</td>\n",
       "      <td>Walt Disney Studios Motion Pictures</td>\n",
       "      <td>134 min</td>\n",
       "      <td>PG-13</td>\n",
       "      <td>['Action', 'Adventure', 'Sci-Fi']</td>\n",
       "    </tr>\n",
       "    <tr>\n",
       "      <th>4</th>\n",
       "      <td>Avengers: Infinity War</td>\n",
       "      <td>2048359754</td>\n",
       "      <td>2018</td>\n",
       "      <td>85%</td>\n",
       "      <td>8.4</td>\n",
       "      <td>Anthony Russo, Joe Russo</td>\n",
       "      <td>Robert Downey Jr., Chris Hemsworth, Mark Ruffalo</td>\n",
       "      <td>Walt Disney Studios Motion Pictures</td>\n",
       "      <td>149 min</td>\n",
       "      <td>PG-13</td>\n",
       "      <td>['Action', 'Adventure', 'Sci-Fi']</td>\n",
       "    </tr>\n",
       "  </tbody>\n",
       "</table>\n",
       "</div>"
      ],
      "text/plain": [
       "                                        Title  World Sales Year Released  \\\n",
       "0  Star Wars: Episode VII - The Force Awakens   2069521700          2015   \n",
       "1                           Avengers: Endgame   2797501328          2019   \n",
       "2                                      Avatar   2847246203          2009   \n",
       "3                               Black Panther   1347597973          2018   \n",
       "4                      Avengers: Infinity War   2048359754          2018   \n",
       "\n",
       "  Rotten Tomatoes Score IMDB Score               Director(s)  \\\n",
       "0                   93%        7.8               J.J. Abrams   \n",
       "1                   94%        8.4  Anthony Russo, Joe Russo   \n",
       "2                   82%        7.9             James Cameron   \n",
       "3                   96%        7.3              Ryan Coogler   \n",
       "4                   85%        8.4  Anthony Russo, Joe Russo   \n",
       "\n",
       "                                 Headlining Actor(s)  \\\n",
       "0             Daisy Ridley, John Boyega, Oscar Isaac   \n",
       "1       Robert Downey Jr., Chris Evans, Mark Ruffalo   \n",
       "2     Sam Worthington, Zoe Saldana, Sigourney Weaver   \n",
       "3  Chadwick Boseman, Michael B. Jordan, Lupita Ny...   \n",
       "4   Robert Downey Jr., Chris Hemsworth, Mark Ruffalo   \n",
       "\n",
       "                                Studio  Runtime Rating  \\\n",
       "0  Walt Disney Studios Motion Pictures  138 min  PG-13   \n",
       "1  Walt Disney Studios Motion Pictures  181 min  PG-13   \n",
       "2                Twentieth Century Fox  162 min  PG-13   \n",
       "3  Walt Disney Studios Motion Pictures  134 min  PG-13   \n",
       "4  Walt Disney Studios Motion Pictures  149 min  PG-13   \n",
       "\n",
       "                                          Genre  \n",
       "0             ['Action', 'Adventure', 'Sci-Fi']  \n",
       "1    ['Action', 'Adventure', 'Drama', 'Sci-Fi']  \n",
       "2  ['Action', 'Adventure', 'Fantasy', 'Sci-Fi']  \n",
       "3             ['Action', 'Adventure', 'Sci-Fi']  \n",
       "4             ['Action', 'Adventure', 'Sci-Fi']  "
      ]
     },
     "execution_count": 7,
     "metadata": {},
     "output_type": "execute_result"
    }
   ],
   "source": [
    "full_moviels_df = pd.DataFrame()\n",
    "full_moviels_df['Title'] = title_ls\n",
    "full_moviels_df['World Sales'] = df['World Sales (in $)']\n",
    "full_moviels_df['Year Released'] = year_ls\n",
    "full_moviels_df['Rotten Tomatoes Score'] = rt_movies_ls\n",
    "full_moviels_df['IMDB Score'] = imdb_movies_ls\n",
    "full_moviels_df['Director(s)'] = director_ls\n",
    "full_moviels_df['Headlining Actor(s)'] = actor_ls\n",
    "full_moviels_df['Studio'] = df['Distributor']\n",
    "full_moviels_df['Runtime'] = length_ls\n",
    "full_moviels_df['Rating'] = rated_ls\n",
    "full_moviels_df['Genre'] = df['Genre']\n",
    "full_moviels_df.head()   "
   ]
  },
  {
   "cell_type": "code",
   "execution_count": 10,
   "id": "efc3781c",
   "metadata": {},
   "outputs": [],
   "source": [
    "full_moviels_df.to_csv(\"Output/Movie_Data.csv\")"
   ]
  },
  {
   "cell_type": "code",
   "execution_count": 38,
   "id": "1678bda6",
   "metadata": {},
   "outputs": [
    {
     "data": {
      "text/html": [
       "<div>\n",
       "<style scoped>\n",
       "    .dataframe tbody tr th:only-of-type {\n",
       "        vertical-align: middle;\n",
       "    }\n",
       "\n",
       "    .dataframe tbody tr th {\n",
       "        vertical-align: top;\n",
       "    }\n",
       "\n",
       "    .dataframe thead th {\n",
       "        text-align: right;\n",
       "    }\n",
       "</style>\n",
       "<table border=\"1\" class=\"dataframe\">\n",
       "  <thead>\n",
       "    <tr style=\"text-align: right;\">\n",
       "      <th></th>\n",
       "      <th>0</th>\n",
       "    </tr>\n",
       "  </thead>\n",
       "  <tbody>\n",
       "    <tr>\n",
       "      <th>0</th>\n",
       "      <td>93%</td>\n",
       "    </tr>\n",
       "    <tr>\n",
       "      <th>1</th>\n",
       "      <td>94%</td>\n",
       "    </tr>\n",
       "    <tr>\n",
       "      <th>2</th>\n",
       "      <td>82%</td>\n",
       "    </tr>\n",
       "    <tr>\n",
       "      <th>3</th>\n",
       "      <td>96%</td>\n",
       "    </tr>\n",
       "    <tr>\n",
       "      <th>4</th>\n",
       "      <td>85%</td>\n",
       "    </tr>\n",
       "  </tbody>\n",
       "</table>\n",
       "</div>"
      ],
      "text/plain": [
       "     0\n",
       "0  93%\n",
       "1  94%\n",
       "2  82%\n",
       "3  96%\n",
       "4  85%"
      ]
     },
     "execution_count": 38,
     "metadata": {},
     "output_type": "execute_result"
    }
   ],
   "source": [
    "# convert movie list into data frame\n",
    "#movie_list_df = pd.DataFrame(movies_ls)\n",
    "#movie_list_df[\"Metacritic Rating\"] = movie_list_df[2]['Value']\n",
    "#movie_list_df"
   ]
  },
  {
   "cell_type": "code",
   "execution_count": 18,
   "id": "1ef0f904",
   "metadata": {},
   "outputs": [],
   "source": [
    "# merge dataframes"
   ]
  },
  {
   "cell_type": "code",
   "execution_count": null,
   "id": "1db9abfc",
   "metadata": {},
   "outputs": [],
   "source": [
    "# Bar Graphs on directors  sales, actors  sales,  studio sales,\n",
    "# Combine list of actors into 1 large list to run a count of how many times an actor appears across all movies on list\n",
    "\n",
    "#MK"
   ]
  },
  {
   "cell_type": "code",
   "execution_count": null,
   "id": "3264ad01",
   "metadata": {},
   "outputs": [],
   "source": [
    "# Line plot for movie genre performance over time\n",
    "\n",
    "#RM"
   ]
  },
  {
   "cell_type": "code",
   "execution_count": 8,
   "id": "de365dcd",
   "metadata": {},
   "outputs": [
    {
     "data": {
      "text/plain": [
       "PG-13       261\n",
       "PG          127\n",
       "R            80\n",
       "G            27\n",
       "Approved      1\n",
       "18+           1\n",
       "Name: Rating, dtype: int64"
      ]
     },
     "execution_count": 8,
     "metadata": {},
     "output_type": "execute_result"
    }
   ],
   "source": [
    "# Count of movies per movie rated type\n",
    "rate_count = full_moviels_df[\"Rating\"].value_counts()\n",
    "rate_count\n",
    "#EP"
   ]
  },
  {
   "cell_type": "code",
   "execution_count": 33,
   "id": "2e225642",
   "metadata": {},
   "outputs": [
    {
     "data": {
      "text/html": [
       "<div>\n",
       "<style scoped>\n",
       "    .dataframe tbody tr th:only-of-type {\n",
       "        vertical-align: middle;\n",
       "    }\n",
       "\n",
       "    .dataframe tbody tr th {\n",
       "        vertical-align: top;\n",
       "    }\n",
       "\n",
       "    .dataframe thead th {\n",
       "        text-align: right;\n",
       "    }\n",
       "</style>\n",
       "<table border=\"1\" class=\"dataframe\">\n",
       "  <thead>\n",
       "    <tr style=\"text-align: right;\">\n",
       "      <th></th>\n",
       "      <th>Total Sales Per Type</th>\n",
       "    </tr>\n",
       "    <tr>\n",
       "      <th>Rating</th>\n",
       "      <th></th>\n",
       "    </tr>\n",
       "  </thead>\n",
       "  <tbody>\n",
       "    <tr>\n",
       "      <th>18+</th>\n",
       "      <td>354825435</td>\n",
       "    </tr>\n",
       "    <tr>\n",
       "      <th>Approved</th>\n",
       "      <td>184925486</td>\n",
       "    </tr>\n",
       "    <tr>\n",
       "      <th>G</th>\n",
       "      <td>16917497010</td>\n",
       "    </tr>\n",
       "    <tr>\n",
       "      <th>PG</th>\n",
       "      <td>67379279430</td>\n",
       "    </tr>\n",
       "    <tr>\n",
       "      <th>PG-13</th>\n",
       "      <td>157811622067</td>\n",
       "    </tr>\n",
       "    <tr>\n",
       "      <th>R</th>\n",
       "      <td>31030184041</td>\n",
       "    </tr>\n",
       "  </tbody>\n",
       "</table>\n",
       "</div>"
      ],
      "text/plain": [
       "          Total Sales Per Type\n",
       "Rating                        \n",
       "18+                  354825435\n",
       "Approved             184925486\n",
       "G                  16917497010\n",
       "PG                 67379279430\n",
       "PG-13             157811622067\n",
       "R                  31030184041"
      ]
     },
     "execution_count": 33,
     "metadata": {},
     "output_type": "execute_result"
    }
   ],
   "source": [
    "#DataFrame for Total sales from a rating\n",
    "rated_and_sales = full_moviels_df.set_index(['Rating'])['World Sales']\n",
    "rate_type_avg_sales = full_moviels_df.groupby([\"Rating\"]).mean()[\"World Sales\"]\n",
    "rate_type_sales_overall = full_moviels_df.groupby([\"Rating\"]).sum()[\"World Sales\"]\n",
    "\n",
    "\n",
    "\n",
    "type_summary=pd.DataFrame({\n",
    "                          'Total Sales Per Type':rate_type_sales_overall,\n",
    "                            })\n",
    "type_summary\n",
    "                                         "
   ]
  },
  {
   "cell_type": "code",
   "execution_count": 45,
   "id": "bebbe616",
   "metadata": {},
   "outputs": [
    {
     "data": {
      "image/png": "[encoded data removed]",
      "text/plain": [
       "<Figure size 432x288 with 1 Axes>"
      ]
     },
     "metadata": {
      "needs_background": "light"
     },
     "output_type": "display_data"
    }
   ],
   "source": [
    "#Bar chart for Average sales per Rating type\n",
    "rated_and_sales_avg = full_moviels_df.set_index(['Rating'])['World Sales']\n",
    "\n",
    "\n",
    "avg_summary =pd.DataFrame({\"Average Sales Per Type\":rate_type_avg_sales})\n",
    "\n",
    "Average_summary=avg_summary.plot.bar()\n",
    "plt.xlabel(\"Rated Types\")\n",
    "plt.ylabel(\"Average Sale Per Type\")\n",
    "plt.title(\"Average Sales for Rated Type\")\n",
    "plt.savefig(\"Output/salesperratedtype.png\")"
   ]
  },
  {
   "cell_type": "code",
   "execution_count": 46,
   "id": "3bc9b3d4",
   "metadata": {
    "scrolled": true
   },
   "outputs": [
    {
     "data": {
      "image/png": "[encoded data removed]",
      "text/plain": [
       "<Figure size 432x288 with 1 Axes>"
      ]
     },
     "metadata": {
      "needs_background": "light"
     },
     "output_type": "display_data"
    }
   ],
   "source": [
    "overall_sale_by_rate_type=type_summary.plot.bar()\n",
    "\n",
    "plt.xlabel(\"Rated Types\")\n",
    "plt.ylabel(\"Total Sales\")\n",
    "plt.title(\"Total sales for rated types\")\n",
    "plt.xticks(rotation=360)\n",
    "plt.savefig(\"Output/SalesOverall.png\")"
   ]
  },
  {
   "cell_type": "code",
   "execution_count": 47,
   "id": "b1812d7a",
   "metadata": {},
   "outputs": [
    {
     "data": {
      "image/png": "[encoded data removed]",
      "text/plain": [
       "<Figure size 432x288 with 1 Axes>"
      ]
     },
     "metadata": {},
     "output_type": "display_data"
    },
    {
     "data": {
      "text/plain": [
       "<Figure size 432x288 with 0 Axes>"
      ]
     },
     "metadata": {},
     "output_type": "display_data"
    }
   ],
   "source": [
    "#pie chart for percentage of rated type in top 500 EP\n",
    "plt.title(\"Rated Type Movie Percentage of Top 500\")\n",
    "rate_count.plot.pie(autopct= \"%1.1f%%\")\n",
    "plt.show()\n",
    "\n",
    "plt.savefig(\"Output/RatePercentageof500.png\")"
   ]
  },
  {
   "cell_type": "code",
   "execution_count": null,
   "id": "92116a50",
   "metadata": {},
   "outputs": [],
   "source": [
    "# Pie chart of Genre Percentage in top grossing\n",
    "\n",
    "#DV"
   ]
  },
  {
   "cell_type": "code",
   "execution_count": null,
   "id": "11ee8305",
   "metadata": {},
   "outputs": [],
   "source": [
    "# Scatter plot for audience reception vs. sales\n",
    "# Scatter plot for critic reception vs. sales\n",
    "\n",
    "#ET"
   ]
  },
  {
   "cell_type": "code",
   "execution_count": null,
   "id": "618873c9",
   "metadata": {},
   "outputs": [],
   "source": []
  }
 ],
 "metadata": {
  "kernelspec": {
   "display_name": "PythonData",
   "language": "python",
   "name": "pythondata"
  },
  "language_info": {
   "codemirror_mode": {
    "name": "ipython",
    "version": 3
   },
   "file_extension": ".py",
   "mimetype": "text/x-python",
   "name": "python",
   "nbconvert_exporter": "python",
   "pygments_lexer": "ipython3",
   "version": "3.7.7"
  }
 },
 "nbformat": 4,
 "nbformat_minor": 5
}
